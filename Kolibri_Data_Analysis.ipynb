{
 "cells": [
  {
   "cell_type": "markdown",
   "metadata": {
    "colab_type": "text",
    "id": "vp9EwXj4Ort2"
   },
   "source": [
    "## How we anonymized the database\n",
    "\n",
    "\n",
    "We ran through every table in the database, and made systematic modifications that blanked out any potentially identifying data, and also adding some small changes in data to prevent it being connected to a non-anonymous subset of the dataset."
   ]
  },
  {
   "cell_type": "markdown",
   "metadata": {
    "colab_type": "text",
    "id": "jMShSglgKvLL"
   },
   "source": [
    "# Pandas\n",
    "Here is a useful reference for your exploration: https://pandas.pydata.org/pandas-docs/stable/generated/pandas.DataFrame.html"
   ]
  },
  {
   "cell_type": "code",
   "execution_count": 1,
   "metadata": {
    "cellView": "both",
    "colab": {
     "base_uri": "https://localhost:8080/",
     "height": 35
    },
    "colab_type": "code",
    "id": "_-hIQ-brAGvP",
    "outputId": "1046891f-c2db-411a-ded3-95dfbe329d05"
   },
   "outputs": [
    {
     "name": "stdout",
     "output_type": "stream",
     "text": [
      "Requirement already satisfied: sqlalchemy in /usr/local/lib/python3.6/dist-packages (1.3.3)\r\n"
     ]
    }
   ],
   "source": [
    "#@title Let's install extra dependencies! ok!\n",
    "!pip install sqlalchemy"
   ]
  },
  {
   "cell_type": "code",
   "execution_count": 2,
   "metadata": {
    "colab": {},
    "colab_type": "code",
    "id": "YT91RtJNLJO8"
   },
   "outputs": [],
   "source": [
    "import pandas as pd\n",
    "import matplotlib.pyplot as plt\n",
    "plt.style.use('seaborn-bright')\n",
    "# Set a style for graphs, find others here: https://tonysyu.github.io/raw_content/matplotlib-style-gallery/gallery.html"
   ]
  },
  {
   "cell_type": "code",
   "execution_count": 3,
   "metadata": {
    "colab": {},
    "colab_type": "code",
    "id": "6eWwpDgIK-7Y"
   },
   "outputs": [],
   "source": [
    "#@title Making a DataFrame\n",
    "data = pd.DataFrame({\n",
    "    'hours_since_breakfast': [0, 1, 2, 3, 4, 5, 6, 7, 8, 9, 10],\n",
    "    'hunger_level': [0, 0, 0, 2, 5, 8, 10, 10, 0, 0, 0 ],\n",
    "    'focus_level': [10, 10, 5, 8, 2, 10, 0, 0, 5, 10, 10 ]\n",
    "})"
   ]
  },
  {
   "cell_type": "markdown",
   "metadata": {
    "colab_type": "text",
    "id": "blz30B4yO_Ki"
   },
   "source": [
    "A DataFrame is like a little spreadsheet:"
   ]
  },
  {
   "cell_type": "code",
   "execution_count": 4,
   "metadata": {
    "colab": {
     "base_uri": "https://localhost:8080/",
     "height": 388
    },
    "colab_type": "code",
    "id": "rcZeNhPkMtZ0",
    "outputId": "7af7ac69-e1ef-48f1-d6a4-8d10297e34e8"
   },
   "outputs": [
    {
     "data": {
      "text/html": [
       "<div>\n",
       "<style scoped>\n",
       "    .dataframe tbody tr th:only-of-type {\n",
       "        vertical-align: middle;\n",
       "    }\n",
       "\n",
       "    .dataframe tbody tr th {\n",
       "        vertical-align: top;\n",
       "    }\n",
       "\n",
       "    .dataframe thead th {\n",
       "        text-align: right;\n",
       "    }\n",
       "</style>\n",
       "<table border=\"1\" class=\"dataframe\">\n",
       "  <thead>\n",
       "    <tr style=\"text-align: right;\">\n",
       "      <th></th>\n",
       "      <th>hours_since_breakfast</th>\n",
       "      <th>hunger_level</th>\n",
       "      <th>focus_level</th>\n",
       "    </tr>\n",
       "  </thead>\n",
       "  <tbody>\n",
       "    <tr>\n",
       "      <th>0</th>\n",
       "      <td>0</td>\n",
       "      <td>0</td>\n",
       "      <td>10</td>\n",
       "    </tr>\n",
       "    <tr>\n",
       "      <th>1</th>\n",
       "      <td>1</td>\n",
       "      <td>0</td>\n",
       "      <td>10</td>\n",
       "    </tr>\n",
       "    <tr>\n",
       "      <th>2</th>\n",
       "      <td>2</td>\n",
       "      <td>0</td>\n",
       "      <td>5</td>\n",
       "    </tr>\n",
       "    <tr>\n",
       "      <th>3</th>\n",
       "      <td>3</td>\n",
       "      <td>2</td>\n",
       "      <td>8</td>\n",
       "    </tr>\n",
       "    <tr>\n",
       "      <th>4</th>\n",
       "      <td>4</td>\n",
       "      <td>5</td>\n",
       "      <td>2</td>\n",
       "    </tr>\n",
       "    <tr>\n",
       "      <th>5</th>\n",
       "      <td>5</td>\n",
       "      <td>8</td>\n",
       "      <td>10</td>\n",
       "    </tr>\n",
       "    <tr>\n",
       "      <th>6</th>\n",
       "      <td>6</td>\n",
       "      <td>10</td>\n",
       "      <td>0</td>\n",
       "    </tr>\n",
       "    <tr>\n",
       "      <th>7</th>\n",
       "      <td>7</td>\n",
       "      <td>10</td>\n",
       "      <td>0</td>\n",
       "    </tr>\n",
       "    <tr>\n",
       "      <th>8</th>\n",
       "      <td>8</td>\n",
       "      <td>0</td>\n",
       "      <td>5</td>\n",
       "    </tr>\n",
       "    <tr>\n",
       "      <th>9</th>\n",
       "      <td>9</td>\n",
       "      <td>0</td>\n",
       "      <td>10</td>\n",
       "    </tr>\n",
       "    <tr>\n",
       "      <th>10</th>\n",
       "      <td>10</td>\n",
       "      <td>0</td>\n",
       "      <td>10</td>\n",
       "    </tr>\n",
       "  </tbody>\n",
       "</table>\n",
       "</div>"
      ],
      "text/plain": [
       "    hours_since_breakfast  hunger_level  focus_level\n",
       "0                       0             0           10\n",
       "1                       1             0           10\n",
       "2                       2             0            5\n",
       "3                       3             2            8\n",
       "4                       4             5            2\n",
       "5                       5             8           10\n",
       "6                       6            10            0\n",
       "7                       7            10            0\n",
       "8                       8             0            5\n",
       "9                       9             0           10\n",
       "10                     10             0           10"
      ]
     },
     "execution_count": 4,
     "metadata": {},
     "output_type": "execute_result"
    }
   ],
   "source": [
    "data"
   ]
  },
  {
   "cell_type": "markdown",
   "metadata": {
    "colab_type": "text",
    "id": "RDHgAolGPEy6"
   },
   "source": [
    "Selecting a column will return a `pandas.Series` object, which is a series of values linked to indices."
   ]
  },
  {
   "cell_type": "code",
   "execution_count": 5,
   "metadata": {
    "colab": {
     "base_uri": "https://localhost:8080/",
     "height": 230
    },
    "colab_type": "code",
    "id": "l3O66uqSNC6y",
    "outputId": "0a49a894-debd-405b-8825-2940465a3ec4"
   },
   "outputs": [
    {
     "data": {
      "text/plain": [
       "0      0\n",
       "1      0\n",
       "2      0\n",
       "3      2\n",
       "4      5\n",
       "5      8\n",
       "6     10\n",
       "7     10\n",
       "8      0\n",
       "9      0\n",
       "10     0\n",
       "Name: hunger_level, dtype: int64"
      ]
     },
     "execution_count": 5,
     "metadata": {},
     "output_type": "execute_result"
    }
   ],
   "source": [
    "data['hunger_level']\n"
   ]
  },
  {
   "cell_type": "markdown",
   "metadata": {
    "colab_type": "text",
    "id": "S4CKvHZ3Payx"
   },
   "source": [
    "We can also select multiple columns:"
   ]
  },
  {
   "cell_type": "code",
   "execution_count": 40,
   "metadata": {
    "colab": {
     "base_uri": "https://localhost:8080/",
     "height": 388
    },
    "colab_type": "code",
    "id": "U0LhJw8TO429",
    "outputId": "8f10c5ba-a6b4-4ef5-b34d-7729822a67b5"
   },
   "outputs": [
    {
     "data": {
      "text/html": [
       "<div>\n",
       "<style scoped>\n",
       "    .dataframe tbody tr th:only-of-type {\n",
       "        vertical-align: middle;\n",
       "    }\n",
       "\n",
       "    .dataframe tbody tr th {\n",
       "        vertical-align: top;\n",
       "    }\n",
       "\n",
       "    .dataframe thead th {\n",
       "        text-align: right;\n",
       "    }\n",
       "</style>\n",
       "<table border=\"1\" class=\"dataframe\">\n",
       "  <thead>\n",
       "    <tr style=\"text-align: right;\">\n",
       "      <th></th>\n",
       "      <th>hours_since_breakfast</th>\n",
       "      <th>focus_level</th>\n",
       "    </tr>\n",
       "  </thead>\n",
       "  <tbody>\n",
       "    <tr>\n",
       "      <th>0</th>\n",
       "      <td>0</td>\n",
       "      <td>10</td>\n",
       "    </tr>\n",
       "    <tr>\n",
       "      <th>1</th>\n",
       "      <td>1</td>\n",
       "      <td>10</td>\n",
       "    </tr>\n",
       "    <tr>\n",
       "      <th>2</th>\n",
       "      <td>2</td>\n",
       "      <td>5</td>\n",
       "    </tr>\n",
       "    <tr>\n",
       "      <th>3</th>\n",
       "      <td>3</td>\n",
       "      <td>8</td>\n",
       "    </tr>\n",
       "    <tr>\n",
       "      <th>4</th>\n",
       "      <td>4</td>\n",
       "      <td>2</td>\n",
       "    </tr>\n",
       "    <tr>\n",
       "      <th>5</th>\n",
       "      <td>5</td>\n",
       "      <td>10</td>\n",
       "    </tr>\n",
       "    <tr>\n",
       "      <th>6</th>\n",
       "      <td>6</td>\n",
       "      <td>0</td>\n",
       "    </tr>\n",
       "    <tr>\n",
       "      <th>7</th>\n",
       "      <td>7</td>\n",
       "      <td>0</td>\n",
       "    </tr>\n",
       "    <tr>\n",
       "      <th>8</th>\n",
       "      <td>8</td>\n",
       "      <td>5</td>\n",
       "    </tr>\n",
       "    <tr>\n",
       "      <th>9</th>\n",
       "      <td>9</td>\n",
       "      <td>10</td>\n",
       "    </tr>\n",
       "    <tr>\n",
       "      <th>10</th>\n",
       "      <td>10</td>\n",
       "      <td>10</td>\n",
       "    </tr>\n",
       "  </tbody>\n",
       "</table>\n",
       "</div>"
      ],
      "text/plain": [
       "    hours_since_breakfast  focus_level\n",
       "0                       0           10\n",
       "1                       1           10\n",
       "2                       2            5\n",
       "3                       3            8\n",
       "4                       4            2\n",
       "5                       5           10\n",
       "6                       6            0\n",
       "7                       7            0\n",
       "8                       8            5\n",
       "9                       9           10\n",
       "10                     10           10"
      ]
     },
     "execution_count": 40,
     "metadata": {},
     "output_type": "execute_result"
    }
   ],
   "source": [
    "# This will return another DataFrame object with two columns\n",
    "data[['hours_since_breakfast', 'focus_level']]"
   ]
  },
  {
   "cell_type": "markdown",
   "metadata": {
    "colab_type": "text",
    "id": "fELCGM2LP0YF"
   },
   "source": [
    "You can do tons of cool stuff with both `Series` and `DataFrame` objects..."
   ]
  },
  {
   "cell_type": "code",
   "execution_count": 41,
   "metadata": {
    "colab": {
     "base_uri": "https://localhost:8080/",
     "height": 230
    },
    "colab_type": "code",
    "id": "C4fPA9bx2vXu",
    "outputId": "bcb224a0-d982-4c7b-851d-2bba33c22332"
   },
   "outputs": [
    {
     "data": {
      "text/plain": [
       "0      5.0\n",
       "1      5.0\n",
       "2      2.5\n",
       "3     10.0\n",
       "4     21.0\n",
       "5     45.0\n",
       "6     60.0\n",
       "7     70.0\n",
       "8      2.5\n",
       "9      5.0\n",
       "10     5.0\n",
       "dtype: float64"
      ]
     },
     "execution_count": 41,
     "metadata": {},
     "output_type": "execute_result"
    }
   ],
   "source": [
    "# you can do basic math operations on DataFrame objects and Series objects\n",
    "data['focus_level']/2 + data['hunger_level'] * data['hours_since_breakfast']\n",
    "\n",
    "# what does this mean?  I don't know! 1 Micah = 1 Stomach Grumbles Hour"
   ]
  },
  {
   "cell_type": "markdown",
   "metadata": {
    "colab_type": "text",
    "id": "InoR7Efe3Sqd"
   },
   "source": [
    "DataFrames have a lot of useful functions for manipulating data and doing computations.  A full list is [here](https://pandas.pydata.org/pandas-docs/stable/generated/pandas.DataFrame.html) (scroll down to *methods*).\n",
    "\n",
    "For example, getting the mean of a column:"
   ]
  },
  {
   "cell_type": "code",
   "execution_count": 42,
   "metadata": {
    "colab": {},
    "colab_type": "code",
    "id": "iLBN7ca3NpN6"
   },
   "outputs": [],
   "source": [
    "# getting the mean focus level\n",
    "means = data.mean()"
   ]
  },
  {
   "cell_type": "code",
   "execution_count": 43,
   "metadata": {
    "colab": {
     "base_uri": "https://localhost:8080/",
     "height": 35
    },
    "colab_type": "code",
    "id": "P-U1HXP6BAV9",
    "outputId": "26011cec-f91d-4e89-d4c9-acccc46f7b78"
   },
   "outputs": [
    {
     "data": {
      "text/plain": [
       "4.848484848484849"
      ]
     },
     "execution_count": 43,
     "metadata": {},
     "output_type": "execute_result"
    }
   ],
   "source": [
    "means.mean()"
   ]
  },
  {
   "cell_type": "code",
   "execution_count": 44,
   "metadata": {
    "colab": {
     "base_uri": "https://localhost:8080/",
     "height": 295
    },
    "colab_type": "code",
    "id": "5YokMaPbQh7-",
    "outputId": "44c2d571-3b38-4b42-a1f0-3c411bdde978"
   },
   "outputs": [
    {
     "data": {
      "text/html": [
       "<div>\n",
       "<style scoped>\n",
       "    .dataframe tbody tr th:only-of-type {\n",
       "        vertical-align: middle;\n",
       "    }\n",
       "\n",
       "    .dataframe tbody tr th {\n",
       "        vertical-align: top;\n",
       "    }\n",
       "\n",
       "    .dataframe thead th {\n",
       "        text-align: right;\n",
       "    }\n",
       "</style>\n",
       "<table border=\"1\" class=\"dataframe\">\n",
       "  <thead>\n",
       "    <tr style=\"text-align: right;\">\n",
       "      <th></th>\n",
       "      <th>hours_since_breakfast</th>\n",
       "      <th>hunger_level</th>\n",
       "      <th>focus_level</th>\n",
       "    </tr>\n",
       "  </thead>\n",
       "  <tbody>\n",
       "    <tr>\n",
       "      <th>count</th>\n",
       "      <td>11.000000</td>\n",
       "      <td>11.000000</td>\n",
       "      <td>11.000000</td>\n",
       "    </tr>\n",
       "    <tr>\n",
       "      <th>mean</th>\n",
       "      <td>5.000000</td>\n",
       "      <td>3.181818</td>\n",
       "      <td>6.363636</td>\n",
       "    </tr>\n",
       "    <tr>\n",
       "      <th>std</th>\n",
       "      <td>3.316625</td>\n",
       "      <td>4.261882</td>\n",
       "      <td>4.153859</td>\n",
       "    </tr>\n",
       "    <tr>\n",
       "      <th>min</th>\n",
       "      <td>0.000000</td>\n",
       "      <td>0.000000</td>\n",
       "      <td>0.000000</td>\n",
       "    </tr>\n",
       "    <tr>\n",
       "      <th>25%</th>\n",
       "      <td>2.500000</td>\n",
       "      <td>0.000000</td>\n",
       "      <td>3.500000</td>\n",
       "    </tr>\n",
       "    <tr>\n",
       "      <th>50%</th>\n",
       "      <td>5.000000</td>\n",
       "      <td>0.000000</td>\n",
       "      <td>8.000000</td>\n",
       "    </tr>\n",
       "    <tr>\n",
       "      <th>75%</th>\n",
       "      <td>7.500000</td>\n",
       "      <td>6.500000</td>\n",
       "      <td>10.000000</td>\n",
       "    </tr>\n",
       "    <tr>\n",
       "      <th>max</th>\n",
       "      <td>10.000000</td>\n",
       "      <td>10.000000</td>\n",
       "      <td>10.000000</td>\n",
       "    </tr>\n",
       "  </tbody>\n",
       "</table>\n",
       "</div>"
      ],
      "text/plain": [
       "       hours_since_breakfast  hunger_level  focus_level\n",
       "count              11.000000     11.000000    11.000000\n",
       "mean                5.000000      3.181818     6.363636\n",
       "std                 3.316625      4.261882     4.153859\n",
       "min                 0.000000      0.000000     0.000000\n",
       "25%                 2.500000      0.000000     3.500000\n",
       "50%                 5.000000      0.000000     8.000000\n",
       "75%                 7.500000      6.500000    10.000000\n",
       "max                10.000000     10.000000    10.000000"
      ]
     },
     "execution_count": 44,
     "metadata": {},
     "output_type": "execute_result"
    }
   ],
   "source": [
    "# some common statistics for all columns of our DataFrame.\n",
    "# (the output of this function is also a DataFrame!)\n",
    "data.describe()"
   ]
  },
  {
   "cell_type": "markdown",
   "metadata": {
    "colab_type": "text",
    "id": "isM9bkM1ThMz"
   },
   "source": [
    "Pandas lets DataFrames have meaningful indices.  We can reindex our DataFrame to the `hours_since_breakfast` column:"
   ]
  },
  {
   "cell_type": "code",
   "execution_count": 45,
   "metadata": {
    "colab": {
     "base_uri": "https://localhost:8080/",
     "height": 419
    },
    "colab_type": "code",
    "id": "IPduYX1LSZ8k",
    "outputId": "e856b6df-34ed-44e4-d335-c13d0725cde0"
   },
   "outputs": [
    {
     "data": {
      "text/html": [
       "<div>\n",
       "<style scoped>\n",
       "    .dataframe tbody tr th:only-of-type {\n",
       "        vertical-align: middle;\n",
       "    }\n",
       "\n",
       "    .dataframe tbody tr th {\n",
       "        vertical-align: top;\n",
       "    }\n",
       "\n",
       "    .dataframe thead th {\n",
       "        text-align: right;\n",
       "    }\n",
       "</style>\n",
       "<table border=\"1\" class=\"dataframe\">\n",
       "  <thead>\n",
       "    <tr style=\"text-align: right;\">\n",
       "      <th></th>\n",
       "      <th>focus_level</th>\n",
       "      <th>hunger_level</th>\n",
       "    </tr>\n",
       "    <tr>\n",
       "      <th>hours_since_breakfast</th>\n",
       "      <th></th>\n",
       "      <th></th>\n",
       "    </tr>\n",
       "  </thead>\n",
       "  <tbody>\n",
       "    <tr>\n",
       "      <th>00:00:00</th>\n",
       "      <td>10</td>\n",
       "      <td>0</td>\n",
       "    </tr>\n",
       "    <tr>\n",
       "      <th>01:00:00</th>\n",
       "      <td>10</td>\n",
       "      <td>0</td>\n",
       "    </tr>\n",
       "    <tr>\n",
       "      <th>02:00:00</th>\n",
       "      <td>5</td>\n",
       "      <td>0</td>\n",
       "    </tr>\n",
       "    <tr>\n",
       "      <th>03:00:00</th>\n",
       "      <td>8</td>\n",
       "      <td>2</td>\n",
       "    </tr>\n",
       "    <tr>\n",
       "      <th>04:00:00</th>\n",
       "      <td>2</td>\n",
       "      <td>5</td>\n",
       "    </tr>\n",
       "    <tr>\n",
       "      <th>05:00:00</th>\n",
       "      <td>10</td>\n",
       "      <td>8</td>\n",
       "    </tr>\n",
       "    <tr>\n",
       "      <th>06:00:00</th>\n",
       "      <td>0</td>\n",
       "      <td>10</td>\n",
       "    </tr>\n",
       "    <tr>\n",
       "      <th>07:00:00</th>\n",
       "      <td>0</td>\n",
       "      <td>10</td>\n",
       "    </tr>\n",
       "    <tr>\n",
       "      <th>08:00:00</th>\n",
       "      <td>5</td>\n",
       "      <td>0</td>\n",
       "    </tr>\n",
       "    <tr>\n",
       "      <th>09:00:00</th>\n",
       "      <td>10</td>\n",
       "      <td>0</td>\n",
       "    </tr>\n",
       "    <tr>\n",
       "      <th>10:00:00</th>\n",
       "      <td>10</td>\n",
       "      <td>0</td>\n",
       "    </tr>\n",
       "  </tbody>\n",
       "</table>\n",
       "</div>"
      ],
      "text/plain": [
       "                       focus_level  hunger_level\n",
       "hours_since_breakfast                           \n",
       "00:00:00                        10             0\n",
       "01:00:00                        10             0\n",
       "02:00:00                         5             0\n",
       "03:00:00                         8             2\n",
       "04:00:00                         2             5\n",
       "05:00:00                        10             8\n",
       "06:00:00                         0            10\n",
       "07:00:00                         0            10\n",
       "08:00:00                         5             0\n",
       "09:00:00                        10             0\n",
       "10:00:00                        10             0"
      ]
     },
     "execution_count": 45,
     "metadata": {},
     "output_type": "execute_result"
    }
   ],
   "source": [
    "hours_since_breakfast = pd.to_timedelta(data['hours_since_breakfast'], unit='h')\n",
    "data_by_hours = data.set_index(hours_since_breakfast)[['focus_level','hunger_level']]\n",
    "\n",
    "data_by_hours"
   ]
  },
  {
   "cell_type": "markdown",
   "metadata": {
    "colab_type": "text",
    "id": "lfLc0QJ1TwS0"
   },
   "source": [
    "Now we can take a rolling mean, with a window of 4 hours..."
   ]
  },
  {
   "cell_type": "code",
   "execution_count": 46,
   "metadata": {
    "colab": {
     "base_uri": "https://localhost:8080/",
     "height": 419
    },
    "colab_type": "code",
    "id": "7dL17AldUB_F",
    "outputId": "994a2471-8a9d-4361-d6c8-d4ed915095c7"
   },
   "outputs": [
    {
     "data": {
      "text/html": [
       "<div>\n",
       "<style scoped>\n",
       "    .dataframe tbody tr th:only-of-type {\n",
       "        vertical-align: middle;\n",
       "    }\n",
       "\n",
       "    .dataframe tbody tr th {\n",
       "        vertical-align: top;\n",
       "    }\n",
       "\n",
       "    .dataframe thead th {\n",
       "        text-align: right;\n",
       "    }\n",
       "</style>\n",
       "<table border=\"1\" class=\"dataframe\">\n",
       "  <thead>\n",
       "    <tr style=\"text-align: right;\">\n",
       "      <th></th>\n",
       "      <th>focus_level</th>\n",
       "      <th>hunger_level</th>\n",
       "    </tr>\n",
       "    <tr>\n",
       "      <th>hours_since_breakfast</th>\n",
       "      <th></th>\n",
       "      <th></th>\n",
       "    </tr>\n",
       "  </thead>\n",
       "  <tbody>\n",
       "    <tr>\n",
       "      <th>00:00:00</th>\n",
       "      <td>10.000000</td>\n",
       "      <td>0.00</td>\n",
       "    </tr>\n",
       "    <tr>\n",
       "      <th>01:00:00</th>\n",
       "      <td>10.000000</td>\n",
       "      <td>0.00</td>\n",
       "    </tr>\n",
       "    <tr>\n",
       "      <th>02:00:00</th>\n",
       "      <td>8.333333</td>\n",
       "      <td>0.00</td>\n",
       "    </tr>\n",
       "    <tr>\n",
       "      <th>03:00:00</th>\n",
       "      <td>8.250000</td>\n",
       "      <td>0.50</td>\n",
       "    </tr>\n",
       "    <tr>\n",
       "      <th>04:00:00</th>\n",
       "      <td>6.250000</td>\n",
       "      <td>1.75</td>\n",
       "    </tr>\n",
       "    <tr>\n",
       "      <th>05:00:00</th>\n",
       "      <td>6.250000</td>\n",
       "      <td>3.75</td>\n",
       "    </tr>\n",
       "    <tr>\n",
       "      <th>06:00:00</th>\n",
       "      <td>5.000000</td>\n",
       "      <td>6.25</td>\n",
       "    </tr>\n",
       "    <tr>\n",
       "      <th>07:00:00</th>\n",
       "      <td>3.000000</td>\n",
       "      <td>8.25</td>\n",
       "    </tr>\n",
       "    <tr>\n",
       "      <th>08:00:00</th>\n",
       "      <td>3.750000</td>\n",
       "      <td>7.00</td>\n",
       "    </tr>\n",
       "    <tr>\n",
       "      <th>09:00:00</th>\n",
       "      <td>3.750000</td>\n",
       "      <td>5.00</td>\n",
       "    </tr>\n",
       "    <tr>\n",
       "      <th>10:00:00</th>\n",
       "      <td>6.250000</td>\n",
       "      <td>2.50</td>\n",
       "    </tr>\n",
       "  </tbody>\n",
       "</table>\n",
       "</div>"
      ],
      "text/plain": [
       "                       focus_level  hunger_level\n",
       "hours_since_breakfast                           \n",
       "00:00:00                 10.000000          0.00\n",
       "01:00:00                 10.000000          0.00\n",
       "02:00:00                  8.333333          0.00\n",
       "03:00:00                  8.250000          0.50\n",
       "04:00:00                  6.250000          1.75\n",
       "05:00:00                  6.250000          3.75\n",
       "06:00:00                  5.000000          6.25\n",
       "07:00:00                  3.000000          8.25\n",
       "08:00:00                  3.750000          7.00\n",
       "09:00:00                  3.750000          5.00\n",
       "10:00:00                  6.250000          2.50"
      ]
     },
     "execution_count": 46,
     "metadata": {},
     "output_type": "execute_result"
    }
   ],
   "source": [
    "window = pd.Timedelta('4 hours')\n",
    "smooth_data = data_by_hours.rolling(window).mean()\n",
    "smooth_data"
   ]
  },
  {
   "cell_type": "markdown",
   "metadata": {
    "colab_type": "text",
    "id": "XIsN-douUpMO"
   },
   "source": [
    "Let's plot it:"
   ]
  },
  {
   "cell_type": "code",
   "execution_count": 47,
   "metadata": {
    "colab": {
     "base_uri": "https://localhost:8080/",
     "height": 723
    },
    "colab_type": "code",
    "id": "g3axlYzRUoZd",
    "outputId": "48a6e611-284f-4f44-f1c4-ee5326e2ffdd"
   },
   "outputs": [
    {
     "data": {
      "text/plain": [
       "<matplotlib.axes._subplots.AxesSubplot at 0x7fa84e2f2c18>"
      ]
     },
     "execution_count": 47,
     "metadata": {},
     "output_type": "execute_result"
    },
    {
     "data": {
      "image/png": "[encoded data removed]",
      "text/plain": [
       "<Figure size 432x288 with 1 Axes>"
      ]
     },
     "metadata": {
      "needs_background": "light"
     },
     "output_type": "display_data"
    },
    {
     "data": {
      "image/png": "[encoded data removed]",
      "text/plain": [
       "<Figure size 432x288 with 1 Axes>"
      ]
     },
     "metadata": {
      "needs_background": "light"
     },
     "output_type": "display_data"
    }
   ],
   "source": [
    "data_by_hours.plot()\n",
    "smooth_data.plot()"
   ]
  },
  {
   "cell_type": "markdown",
   "metadata": {
    "colab_type": "text",
    "id": "yI-AtwFXV7YT"
   },
   "source": [
    "How illuminating! And magical!"
   ]
  },
  {
   "cell_type": "code",
   "execution_count": 48,
   "metadata": {
    "colab": {
     "base_uri": "https://localhost:8080/",
     "height": 379
    },
    "colab_type": "code",
    "id": "lNVqfdSIWQEn",
    "outputId": "8fccd46c-9653-4cd2-9a8b-66aa2d68509b"
   },
   "outputs": [
    {
     "data": {
      "text/plain": [
       "<matplotlib.axes._subplots.AxesSubplot at 0x7fa84e2ecac8>"
      ]
     },
     "execution_count": 48,
     "metadata": {},
     "output_type": "execute_result"
    },
    {
     "data": {
      "image/png": "[encoded data removed]",
      "text/plain": [
       "<Figure size 432x288 with 1 Axes>"
      ]
     },
     "metadata": {
      "needs_background": "light"
     },
     "output_type": "display_data"
    }
   ],
   "source": [
    "data.plot.scatter(x='hunger_level', y='focus_level')"
   ]
  },
  {
   "cell_type": "markdown",
   "metadata": {
    "colab_type": "text",
    "id": "z_F83zr0BJvX"
   },
   "source": [
    "# Working with Kolibri Data\n",
    "\n",
    "So far we have worked with example data to get to grips with using Pandas in Jupyter Notebooks. Now we are going to load in some data from an anonymized Kolibri database file, and then try out some analysis on it!"
   ]
  },
  {
   "cell_type": "code",
   "execution_count": 6,
   "metadata": {
    "colab": {},
    "colab_type": "code",
    "id": "ORmgF1FCBmti"
   },
   "outputs": [],
   "source": [
    "db_path = \"sample.sqlite3\"\n",
    "#db_path = \"data.sqlite3\"\n",
    "import pandas as pd\n",
    "from sqlalchemy import create_engine\n",
    "\n",
    "db_engine = create_engine('sqlite:///{db_path}'.format(db_path=db_path))\n",
    "\n",
    "blacklist = [\"_morango_dirty_bit\", \"_morango_source_id\", \"_morango_partition\", \"dataset_id\"]\n"
   ]
  },
  {
   "cell_type": "code",
   "execution_count": 7,
   "metadata": {},
   "outputs": [],
   "source": [
    "\n",
    "collections = pd.read_sql_table('kolibriauth_collection', db_engine).drop(blacklist, axis=1)\n",
    "facilities = collections[collections.kind == 'facility']\n",
    "classrooms = collections[collections.kind == 'classroom']\n",
    "groups = collections[collections.kind == 'group']\n",
    "users = pd.read_sql_table('kolibriauth_facilityuser', db_engine).drop(blacklist, axis=1)\n",
    "roles = pd.read_sql_table('kolibriauth_role', db_engine).drop(blacklist, axis=1)\n",
    "membership = pd.read_sql_table('kolibriauth_membership', db_engine).drop(blacklist, axis=1)\n",
    "content_session_logs = pd.read_sql_table('logger_contentsessionlog', db_engine).drop(blacklist, axis=1)\n",
    "content_summary_logs = pd.read_sql_table('logger_contentsummarylog', db_engine).drop(blacklist, axis=1)\n",
    "attempt_logs = pd.read_sql_table('logger_attemptlog', db_engine).drop(blacklist, axis=1)\n",
    "mastery_logs = pd.read_sql_table('logger_masterylog', db_engine).drop(blacklist, axis=1)\n",
    "exams = pd.read_sql_table('exams_exam', db_engine).drop(blacklist, axis=1)\n",
    "exam_logs = pd.read_sql_table('logger_examlog', db_engine).drop(blacklist, axis=1)\n",
    "exam_attempt_logs = pd.read_sql_table('logger_examattemptlog', db_engine).drop(blacklist, axis=1)\n",
    "user_session_logs = pd.read_sql_table('logger_usersessionlog', db_engine).drop(blacklist, axis=1)"
   ]
  },
  {
   "cell_type": "markdown",
   "metadata": {
    "colab_type": "text",
    "id": "WVjdpdTiT0v8"
   },
   "source": [
    "## You want answers? I want the truth!\n",
    "\n",
    "In this section we will use pandas to do some example queries on Kolibri data to answer some questions"
   ]
  },
  {
   "cell_type": "markdown",
   "metadata": {
    "colab_type": "text",
    "id": "EO2oxZWLUBBq"
   },
   "source": [
    "### How many coaches are using Kolibri?\n",
    "\n",
    "We might think we would want to count users, but if we look at the users dataframe, there is no information about what role a user plays in there:"
   ]
  },
  {
   "cell_type": "code",
   "execution_count": 85,
   "metadata": {
    "colab": {
     "base_uri": "https://localhost:8080/",
     "height": 309
    },
    "colab_type": "code",
    "id": "xmz97bl-eLa0",
    "outputId": "6bda4a96-3b8d-4087-e522-636fb489abd8"
   },
   "outputs": [
    {
     "data": {
      "text/html": [
       "<div>\n",
       "<style scoped>\n",
       "    .dataframe tbody tr th:only-of-type {\n",
       "        vertical-align: middle;\n",
       "    }\n",
       "\n",
       "    .dataframe tbody tr th {\n",
       "        vertical-align: top;\n",
       "    }\n",
       "\n",
       "    .dataframe thead th {\n",
       "        text-align: right;\n",
       "    }\n",
       "</style>\n",
       "<table border=\"1\" class=\"dataframe\">\n",
       "  <thead>\n",
       "    <tr style=\"text-align: right;\">\n",
       "      <th></th>\n",
       "      <th>full_name</th>\n",
       "      <th>last_login</th>\n",
       "      <th>date_joined</th>\n",
       "      <th>facility_id</th>\n",
       "    </tr>\n",
       "  </thead>\n",
       "  <tbody>\n",
       "    <tr>\n",
       "      <th>0</th>\n",
       "      <td>84120d5df3cc075c</td>\n",
       "      <td>2018-08-18 09:26:24.064089</td>\n",
       "      <td>2009-01-01 07:19:22.529668(UTC)</td>\n",
       "      <td>37f4d9f1273750edbc1784f624a62c</td>\n",
       "    </tr>\n",
       "    <tr>\n",
       "      <th>1</th>\n",
       "      <td>34a8009bcfc1e637</td>\n",
       "      <td>2018-12-04 07:14:13.886316</td>\n",
       "      <td>2009-01-01 07:47:03.642762(UTC)</td>\n",
       "      <td>37f4d9f1273750edbc1784f624a62c</td>\n",
       "    </tr>\n",
       "    <tr>\n",
       "      <th>2</th>\n",
       "      <td>d8b29758e7c4d384</td>\n",
       "      <td>2018-12-04 07:44:29.649419</td>\n",
       "      <td>2018-08-18 08:35:18.075786(UTC)</td>\n",
       "      <td>37f4d9f1273750edbc1784f624a62c</td>\n",
       "    </tr>\n",
       "    <tr>\n",
       "      <th>3</th>\n",
       "      <td>7c2223b748710cce</td>\n",
       "      <td>NaT</td>\n",
       "      <td>2018-08-18 08:41:33.090256(UTC)</td>\n",
       "      <td>37f4d9f1273750edbc1784f624a62c</td>\n",
       "    </tr>\n",
       "    <tr>\n",
       "      <th>4</th>\n",
       "      <td>30b22ddcb730f671</td>\n",
       "      <td>2018-11-28 09:34:15.356216</td>\n",
       "      <td>2018-08-18 10:51:41.982703(UTC)</td>\n",
       "      <td>37f4d9f1273750edbc1784f624a62c</td>\n",
       "    </tr>\n",
       "  </tbody>\n",
       "</table>\n",
       "</div>"
      ],
      "text/plain": [
       "          full_name                 last_login  \\\n",
       "0  84120d5df3cc075c 2018-08-18 09:26:24.064089   \n",
       "1  34a8009bcfc1e637 2018-12-04 07:14:13.886316   \n",
       "2  d8b29758e7c4d384 2018-12-04 07:44:29.649419   \n",
       "3  7c2223b748710cce                        NaT   \n",
       "4  30b22ddcb730f671 2018-11-28 09:34:15.356216   \n",
       "\n",
       "                       date_joined                     facility_id  \n",
       "0  2009-01-01 07:19:22.529668(UTC)  37f4d9f1273750edbc1784f624a62c  \n",
       "1  2009-01-01 07:47:03.642762(UTC)  37f4d9f1273750edbc1784f624a62c  \n",
       "2  2018-08-18 08:35:18.075786(UTC)  37f4d9f1273750edbc1784f624a62c  \n",
       "3  2018-08-18 08:41:33.090256(UTC)  37f4d9f1273750edbc1784f624a62c  \n",
       "4  2018-08-18 10:51:41.982703(UTC)  37f4d9f1273750edbc1784f624a62c  "
      ]
     },
     "execution_count": 85,
     "metadata": {},
     "output_type": "execute_result"
    }
   ],
   "source": [
    "# Use .head() to just get the first few rows of the dataframe for quickly checking out the data\n",
    "users[['full_name','last_login','date_joined','facility_id']].head()"
   ]
  },
  {
   "cell_type": "code",
   "execution_count": 76,
   "metadata": {
    "colab": {
     "base_uri": "https://localhost:8080/",
     "height": 142
    },
    "colab_type": "code",
    "id": "RuegtTFBedVP",
    "outputId": "d58efe45-e46c-4257-b041-8703968b8b74"
   },
   "outputs": [
    {
     "data": {
      "text/html": [
       "<div>\n",
       "<style scoped>\n",
       "    .dataframe tbody tr th:only-of-type {\n",
       "        vertical-align: middle;\n",
       "    }\n",
       "\n",
       "    .dataframe tbody tr th {\n",
       "        vertical-align: top;\n",
       "    }\n",
       "\n",
       "    .dataframe thead th {\n",
       "        text-align: right;\n",
       "    }\n",
       "</style>\n",
       "<table border=\"1\" class=\"dataframe\">\n",
       "  <thead>\n",
       "    <tr style=\"text-align: right;\">\n",
       "      <th></th>\n",
       "      <th>id</th>\n",
       "      <th>collection_id</th>\n",
       "      <th>user_id</th>\n",
       "      <th>kind</th>\n",
       "    </tr>\n",
       "  </thead>\n",
       "  <tbody>\n",
       "    <tr>\n",
       "      <th>0</th>\n",
       "      <td>6c2ef85e9237530b86dbe9000c8da8</td>\n",
       "      <td>37f4d9f1273750edbc1784f624a62c</td>\n",
       "      <td>d97291d8ed0d5503aace68044af2a4</td>\n",
       "      <td>admin</td>\n",
       "    </tr>\n",
       "    <tr>\n",
       "      <th>1</th>\n",
       "      <td>19a5725c2907543f88e71e02aac40c</td>\n",
       "      <td>37f4d9f1273750edbc1784f624a62c</td>\n",
       "      <td>c81c4f3d67b5594b834daf50ed1231</td>\n",
       "      <td>admin</td>\n",
       "    </tr>\n",
       "    <tr>\n",
       "      <th>2</th>\n",
       "      <td>0da0fad9fa60599086ba986675c0e7</td>\n",
       "      <td>37f4d9f1273750edbc1784f624a62c</td>\n",
       "      <td>67291573f0f059a1bb63acd79f534a</td>\n",
       "      <td>admin</td>\n",
       "    </tr>\n",
       "    <tr>\n",
       "      <th>3</th>\n",
       "      <td>b7576f82e3d65abdbb64f06ba06e99</td>\n",
       "      <td>37f4d9f1273750edbc1784f624a62c</td>\n",
       "      <td>9d2f13f91d2d575ebe98fe054f8cbf</td>\n",
       "      <td>admin</td>\n",
       "    </tr>\n",
       "    <tr>\n",
       "      <th>4</th>\n",
       "      <td>617de75354105158a8478be62fff60</td>\n",
       "      <td>e42d8a5d98ab5ad2b3cf5d4909112c</td>\n",
       "      <td>67291573f0f059a1bb63acd79f534a</td>\n",
       "      <td>coach</td>\n",
       "    </tr>\n",
       "  </tbody>\n",
       "</table>\n",
       "</div>"
      ],
      "text/plain": [
       "                               id                   collection_id  \\\n",
       "0  6c2ef85e9237530b86dbe9000c8da8  37f4d9f1273750edbc1784f624a62c   \n",
       "1  19a5725c2907543f88e71e02aac40c  37f4d9f1273750edbc1784f624a62c   \n",
       "2  0da0fad9fa60599086ba986675c0e7  37f4d9f1273750edbc1784f624a62c   \n",
       "3  b7576f82e3d65abdbb64f06ba06e99  37f4d9f1273750edbc1784f624a62c   \n",
       "4  617de75354105158a8478be62fff60  e42d8a5d98ab5ad2b3cf5d4909112c   \n",
       "\n",
       "                          user_id   kind  \n",
       "0  d97291d8ed0d5503aace68044af2a4  admin  \n",
       "1  c81c4f3d67b5594b834daf50ed1231  admin  \n",
       "2  67291573f0f059a1bb63acd79f534a  admin  \n",
       "3  9d2f13f91d2d575ebe98fe054f8cbf  admin  \n",
       "4  67291573f0f059a1bb63acd79f534a  coach  "
      ]
     },
     "execution_count": 76,
     "metadata": {},
     "output_type": "execute_result"
    }
   ],
   "source": [
    "# Instead we need to look at the roles data, which shows special roles (admin, coach) assigned to a user.\n",
    "roles.head()"
   ]
  },
  {
   "cell_type": "code",
   "execution_count": 77,
   "metadata": {
    "colab": {
     "base_uri": "https://localhost:8080/",
     "height": 34
    },
    "colab_type": "code",
    "id": "ehKktW55OMJn",
    "outputId": "c7685b96-a6a4-481f-8767-dc5fd43b07c3"
   },
   "outputs": [
    {
     "data": {
      "text/plain": [
       "2"
      ]
     },
     "execution_count": 77,
     "metadata": {},
     "output_type": "execute_result"
    }
   ],
   "source": [
    "roles[roles.kind == 'coach'].kind.count()"
   ]
  },
  {
   "cell_type": "markdown",
   "metadata": {
    "colab_type": "text",
    "id": "Qs_8fAjXb16l"
   },
   "source": [
    "### But wait, this data is from Nalanda. In Nalanda every coach is currently using an admin account!"
   ]
  },
  {
   "cell_type": "code",
   "execution_count": 54,
   "metadata": {
    "colab": {
     "base_uri": "https://localhost:8080/",
     "height": 34
    },
    "colab_type": "code",
    "id": "All60DnRbepG",
    "outputId": "909ad2e2-991b-47b9-eef9-49397afc6392"
   },
   "outputs": [
    {
     "data": {
      "text/plain": [
       "4"
      ]
     },
     "execution_count": 54,
     "metadata": {},
     "output_type": "execute_result"
    }
   ],
   "source": [
    "roles[roles.kind == 'admin'].kind.count()"
   ]
  },
  {
   "cell_type": "markdown",
   "metadata": {
    "colab_type": "text",
    "id": "e4z0QrFVdpXF"
   },
   "source": [
    "### How many questions per exam? (note: this question originally also asked about lessons, but there is no lessons data in the Nalanda DB)"
   ]
  },
  {
   "cell_type": "code",
   "execution_count": 55,
   "metadata": {
    "colab": {
     "base_uri": "https://localhost:8080/",
     "height": 309
    },
    "colab_type": "code",
    "id": "cQEG1wv0dyyI",
    "outputId": "bc176944-ee64-45d0-babf-84a2650ac849"
   },
   "outputs": [
    {
     "data": {
      "text/html": [
       "<div>\n",
       "<style scoped>\n",
       "    .dataframe tbody tr th:only-of-type {\n",
       "        vertical-align: middle;\n",
       "    }\n",
       "\n",
       "    .dataframe tbody tr th {\n",
       "        vertical-align: top;\n",
       "    }\n",
       "\n",
       "    .dataframe thead th {\n",
       "        text-align: right;\n",
       "    }\n",
       "</style>\n",
       "<table border=\"1\" class=\"dataframe\">\n",
       "  <thead>\n",
       "    <tr style=\"text-align: right;\">\n",
       "      <th></th>\n",
       "      <th>id</th>\n",
       "      <th>title</th>\n",
       "      <th>channel_id</th>\n",
       "      <th>question_count</th>\n",
       "      <th>question_sources</th>\n",
       "      <th>seed</th>\n",
       "      <th>active</th>\n",
       "      <th>archive</th>\n",
       "      <th>collection_id</th>\n",
       "      <th>creator_id</th>\n",
       "    </tr>\n",
       "  </thead>\n",
       "  <tbody>\n",
       "    <tr>\n",
       "      <th>0</th>\n",
       "      <td>7ccb539cb93f591f96e068807b6ae7</td>\n",
       "      <td>d99596895095d0be</td>\n",
       "      <td>37b2c95c302356e8ac53b8d9cab638</td>\n",
       "      <td>10</td>\n",
       "      <td>[{\"number_of_questions\": 10, \"exercise_id\": \"2...</td>\n",
       "      <td>417</td>\n",
       "      <td>False</td>\n",
       "      <td>False</td>\n",
       "      <td>e42d8a5d98ab5ad2b3cf5d4909112c</td>\n",
       "      <td>67291573f0f059a1bb63acd79f534a</td>\n",
       "    </tr>\n",
       "    <tr>\n",
       "      <th>1</th>\n",
       "      <td>4d54a40f730f596b823a58b9969b6c</td>\n",
       "      <td>ea797d66d3abdc2b</td>\n",
       "      <td>37b2c95c302356e8ac53b8d9cab638</td>\n",
       "      <td>10</td>\n",
       "      <td>[{\"number_of_questions\": 10, \"exercise_id\": \"2...</td>\n",
       "      <td>510</td>\n",
       "      <td>False</td>\n",
       "      <td>False</td>\n",
       "      <td>226de14b99135a9db373aa3275929e</td>\n",
       "      <td>67291573f0f059a1bb63acd79f534a</td>\n",
       "    </tr>\n",
       "    <tr>\n",
       "      <th>2</th>\n",
       "      <td>8ce41098abca5e37a993ffaf57d56c</td>\n",
       "      <td>f1b21184fb5bfb74</td>\n",
       "      <td>37b2c95c302356e8ac53b8d9cab638</td>\n",
       "      <td>6</td>\n",
       "      <td>[{\"number_of_questions\": 3, \"exercise_id\": \"02...</td>\n",
       "      <td>96</td>\n",
       "      <td>False</td>\n",
       "      <td>False</td>\n",
       "      <td>e42d8a5d98ab5ad2b3cf5d4909112c</td>\n",
       "      <td>67291573f0f059a1bb63acd79f534a</td>\n",
       "    </tr>\n",
       "    <tr>\n",
       "      <th>3</th>\n",
       "      <td>a25e8a996dd5546188d7c9df4aa862</td>\n",
       "      <td>3b3faf51d16ea29f</td>\n",
       "      <td>37b2c95c302356e8ac53b8d9cab638</td>\n",
       "      <td>6</td>\n",
       "      <td>[{\"number_of_questions\": 3, \"exercise_id\": \"02...</td>\n",
       "      <td>96</td>\n",
       "      <td>False</td>\n",
       "      <td>False</td>\n",
       "      <td>226de14b99135a9db373aa3275929e</td>\n",
       "      <td>67291573f0f059a1bb63acd79f534a</td>\n",
       "    </tr>\n",
       "    <tr>\n",
       "      <th>4</th>\n",
       "      <td>9fc4126654cd5916afd0e9c30237c4</td>\n",
       "      <td>edffa083aa153d1f</td>\n",
       "      <td>37b2c95c302356e8ac53b8d9cab638</td>\n",
       "      <td>6</td>\n",
       "      <td>[{\"number_of_questions\": 6, \"exercise_id\": \"b9...</td>\n",
       "      <td>883</td>\n",
       "      <td>False</td>\n",
       "      <td>False</td>\n",
       "      <td>e42d8a5d98ab5ad2b3cf5d4909112c</td>\n",
       "      <td>67291573f0f059a1bb63acd79f534a</td>\n",
       "    </tr>\n",
       "  </tbody>\n",
       "</table>\n",
       "</div>"
      ],
      "text/plain": [
       "                               id             title  \\\n",
       "0  7ccb539cb93f591f96e068807b6ae7  d99596895095d0be   \n",
       "1  4d54a40f730f596b823a58b9969b6c  ea797d66d3abdc2b   \n",
       "2  8ce41098abca5e37a993ffaf57d56c  f1b21184fb5bfb74   \n",
       "3  a25e8a996dd5546188d7c9df4aa862  3b3faf51d16ea29f   \n",
       "4  9fc4126654cd5916afd0e9c30237c4  edffa083aa153d1f   \n",
       "\n",
       "                       channel_id  question_count  \\\n",
       "0  37b2c95c302356e8ac53b8d9cab638              10   \n",
       "1  37b2c95c302356e8ac53b8d9cab638              10   \n",
       "2  37b2c95c302356e8ac53b8d9cab638               6   \n",
       "3  37b2c95c302356e8ac53b8d9cab638               6   \n",
       "4  37b2c95c302356e8ac53b8d9cab638               6   \n",
       "\n",
       "                                    question_sources  seed  active  archive  \\\n",
       "0  [{\"number_of_questions\": 10, \"exercise_id\": \"2...   417   False    False   \n",
       "1  [{\"number_of_questions\": 10, \"exercise_id\": \"2...   510   False    False   \n",
       "2  [{\"number_of_questions\": 3, \"exercise_id\": \"02...    96   False    False   \n",
       "3  [{\"number_of_questions\": 3, \"exercise_id\": \"02...    96   False    False   \n",
       "4  [{\"number_of_questions\": 6, \"exercise_id\": \"b9...   883   False    False   \n",
       "\n",
       "                    collection_id                      creator_id  \n",
       "0  e42d8a5d98ab5ad2b3cf5d4909112c  67291573f0f059a1bb63acd79f534a  \n",
       "1  226de14b99135a9db373aa3275929e  67291573f0f059a1bb63acd79f534a  \n",
       "2  e42d8a5d98ab5ad2b3cf5d4909112c  67291573f0f059a1bb63acd79f534a  \n",
       "3  226de14b99135a9db373aa3275929e  67291573f0f059a1bb63acd79f534a  \n",
       "4  e42d8a5d98ab5ad2b3cf5d4909112c  67291573f0f059a1bb63acd79f534a  "
      ]
     },
     "execution_count": 55,
     "metadata": {},
     "output_type": "execute_result"
    }
   ],
   "source": [
    "exams.head()"
   ]
  },
  {
   "cell_type": "markdown",
   "metadata": {
    "colab_type": "text",
    "id": "SQ7Rz_QiexYM"
   },
   "source": [
    "Looking at the exams, it seems like we can just directly check the number of questions with the questions_count attribute! Let's look at that."
   ]
  },
  {
   "cell_type": "code",
   "execution_count": 56,
   "metadata": {
    "colab": {
     "base_uri": "https://localhost:8080/",
     "height": 34
    },
    "colab_type": "code",
    "id": "prVEdj0Ke4Z6",
    "outputId": "05e82c3e-bdd0-4c9d-b2b2-14007238688d"
   },
   "outputs": [
    {
     "data": {
      "text/plain": [
       "9.777777777777779"
      ]
     },
     "execution_count": 56,
     "metadata": {},
     "output_type": "execute_result"
    }
   ],
   "source": [
    "# Mean question count\n",
    "exams.question_count.mean()"
   ]
  },
  {
   "cell_type": "code",
   "execution_count": 57,
   "metadata": {
    "colab": {
     "base_uri": "https://localhost:8080/",
     "height": 34
    },
    "colab_type": "code",
    "id": "yZ3biz2Ne7Uv",
    "outputId": "9a027b8b-5500-4a65-da04-51f43f4a4618"
   },
   "outputs": [
    {
     "data": {
      "text/plain": [
       "4.294699575575042"
      ]
     },
     "execution_count": 57,
     "metadata": {},
     "output_type": "execute_result"
    }
   ],
   "source": [
    "# Standard deviation of question count\n",
    "exams.question_count.std()"
   ]
  },
  {
   "cell_type": "code",
   "execution_count": 58,
   "metadata": {
    "colab": {
     "base_uri": "https://localhost:8080/",
     "height": 34
    },
    "colab_type": "code",
    "id": "9TigsgphfDda",
    "outputId": "7f5b7cd1-fe87-4359-c387-a265269806bf"
   },
   "outputs": [
    {
     "data": {
      "text/plain": [
       "10.0"
      ]
     },
     "execution_count": 58,
     "metadata": {},
     "output_type": "execute_result"
    }
   ],
   "source": [
    "# Median question count\n",
    "exams.question_count.median()"
   ]
  },
  {
   "cell_type": "code",
   "execution_count": 59,
   "metadata": {
    "colab": {
     "base_uri": "https://localhost:8080/",
     "height": 51
    },
    "colab_type": "code",
    "id": "inybdl_bfHWG",
    "outputId": "03f31f4b-11f6-48ea-96fb-d364cb8a87b6"
   },
   "outputs": [
    {
     "data": {
      "text/plain": [
       "0     6\n",
       "1    15\n",
       "dtype: int64"
      ]
     },
     "execution_count": 59,
     "metadata": {},
     "output_type": "execute_result"
    }
   ],
   "source": [
    "# Modal question count\n",
    "exams.question_count.mode()"
   ]
  },
  {
   "cell_type": "markdown",
   "metadata": {
    "colab_type": "text",
    "id": "BfY9IrVLfMt-"
   },
   "source": [
    "That's weird - we have questions with a question count of 0?!\n",
    "Let's take a look at what is going on there, sounds funky.\n"
   ]
  },
  {
   "cell_type": "code",
   "execution_count": 60,
   "metadata": {
    "colab": {
     "base_uri": "https://localhost:8080/",
     "height": 49
    },
    "colab_type": "code",
    "id": "ah0AJmxgfPqA",
    "outputId": "9f8b7db1-0641-4136-da09-7b7fa1c97e74"
   },
   "outputs": [
    {
     "data": {
      "text/html": [
       "<div>\n",
       "<style scoped>\n",
       "    .dataframe tbody tr th:only-of-type {\n",
       "        vertical-align: middle;\n",
       "    }\n",
       "\n",
       "    .dataframe tbody tr th {\n",
       "        vertical-align: top;\n",
       "    }\n",
       "\n",
       "    .dataframe thead th {\n",
       "        text-align: right;\n",
       "    }\n",
       "</style>\n",
       "<table border=\"1\" class=\"dataframe\">\n",
       "  <thead>\n",
       "    <tr style=\"text-align: right;\">\n",
       "      <th></th>\n",
       "      <th>id</th>\n",
       "      <th>title</th>\n",
       "      <th>channel_id</th>\n",
       "      <th>question_count</th>\n",
       "      <th>question_sources</th>\n",
       "      <th>seed</th>\n",
       "      <th>active</th>\n",
       "      <th>archive</th>\n",
       "      <th>collection_id</th>\n",
       "      <th>creator_id</th>\n",
       "    </tr>\n",
       "  </thead>\n",
       "  <tbody>\n",
       "  </tbody>\n",
       "</table>\n",
       "</div>"
      ],
      "text/plain": [
       "Empty DataFrame\n",
       "Columns: [id, title, channel_id, question_count, question_sources, seed, active, archive, collection_id, creator_id]\n",
       "Index: []"
      ]
     },
     "execution_count": 60,
     "metadata": {},
     "output_type": "execute_result"
    }
   ],
   "source": [
    "# We can only look at data for particular cases by 'boolean indexing', this will only show us rows where question count is 0\n",
    "exams[exams.question_count == 0]"
   ]
  },
  {
   "cell_type": "markdown",
   "metadata": {
    "colab_type": "text",
    "id": "CQxXXUVdfqDn"
   },
   "source": [
    "That's odd - so there aren't any that have question_count of 0. Let's look at that mode again."
   ]
  },
  {
   "cell_type": "code",
   "execution_count": 61,
   "metadata": {
    "colab": {
     "base_uri": "https://localhost:8080/",
     "height": 34
    },
    "colab_type": "code",
    "id": "pcSQWc55fuWR",
    "outputId": "02ba328f-b70d-4848-fba3-e22b59843fc3"
   },
   "outputs": [
    {
     "data": {
      "text/plain": [
       "2"
      ]
     },
     "execution_count": 61,
     "metadata": {},
     "output_type": "execute_result"
    }
   ],
   "source": [
    "len(exams.question_count.mode())"
   ]
  },
  {
   "cell_type": "markdown",
   "metadata": {
    "colab_type": "text",
    "id": "h31PbXA8f0rq"
   },
   "source": [
    "So, it only has a length of 1! So there is only one result.\n",
    "\n",
    "What's happening?\n",
    "\n",
    "Because a mode **can** have more than one value (bimodal, etc.) the .mode() method does not return a single value like median and mean, but instead returns a Pandas Series. The 0 we saw next to the 50 is actually the index number of that Series.\n",
    "\n",
    "So there is only one mode, and the mode is 50."
   ]
  },
  {
   "cell_type": "code",
   "execution_count": 62,
   "metadata": {
    "colab": {
     "base_uri": "https://localhost:8080/",
     "height": 364
    },
    "colab_type": "code",
    "id": "J-CIM4srgPEd",
    "outputId": "1f38f469-d529-40c5-c5be-d7a114c582d8"
   },
   "outputs": [
    {
     "data": {
      "text/plain": [
       "<matplotlib.axes._subplots.AxesSubplot at 0x7fa84e27e3c8>"
      ]
     },
     "execution_count": 62,
     "metadata": {},
     "output_type": "execute_result"
    },
    {
     "data": {
      "image/png": "[encoded data removed]",
      "text/plain": [
       "<Figure size 432x288 with 1 Axes>"
      ]
     },
     "metadata": {
      "needs_background": "light"
     },
     "output_type": "display_data"
    }
   ],
   "source": [
    "# A histogram clearly shows that the mode is indeed 50, with three exams having that question count.\n",
    "exams.question_count.hist()"
   ]
  },
  {
   "cell_type": "markdown",
   "metadata": {
    "colab_type": "text",
    "id": "rAA2TSeFgpOg"
   },
   "source": [
    "### How much time is actually spent on each kind of resource?\n",
    "\n",
    "Fortunately, we record the content kind in the content session log, so we can tell some things about the content that is engaged with. \n",
    "\n",
    "However, to actually know what the content is, we would need access to data from Studio to cross reference (especially for a Nalanda database, where the content data has not been imported into the database)."
   ]
  },
  {
   "cell_type": "code",
   "execution_count": 158,
   "metadata": {
    "colab": {
     "base_uri": "https://localhost:8080/",
     "height": 309
    },
    "colab_type": "code",
    "id": "WrH63Tt2hAAG",
    "outputId": "76adfda6-318d-4485-f2f2-7a212fadf69b"
   },
   "outputs": [
    {
     "data": {
      "text/html": [
       "<div>\n",
       "<style scoped>\n",
       "    .dataframe tbody tr th:only-of-type {\n",
       "        vertical-align: middle;\n",
       "    }\n",
       "\n",
       "    .dataframe tbody tr th {\n",
       "        vertical-align: top;\n",
       "    }\n",
       "\n",
       "    .dataframe thead th {\n",
       "        text-align: right;\n",
       "    }\n",
       "</style>\n",
       "<table border=\"1\" class=\"dataframe\">\n",
       "  <thead>\n",
       "    <tr style=\"text-align: right;\">\n",
       "      <th></th>\n",
       "      <th>id</th>\n",
       "      <th>content_id</th>\n",
       "      <th>channel_id</th>\n",
       "      <th>end_timestamp</th>\n",
       "      <th>time_spent</th>\n",
       "      <th>progress</th>\n",
       "      <th>kind</th>\n",
       "      <th>extra_fields</th>\n",
       "      <th>user_id</th>\n",
       "      <th>start_timestamp</th>\n",
       "    </tr>\n",
       "  </thead>\n",
       "  <tbody>\n",
       "    <tr>\n",
       "      <th>2</th>\n",
       "      <td>dc67704faf1e5d88922d0c5cd7adf0</td>\n",
       "      <td>34d5d85546d5584bbc95aa119c2eec</td>\n",
       "      <td>37b2c95c302356e8ac53b8d9cab638</td>\n",
       "      <td>2018-08-18 10:54:15.502000(UTC)</td>\n",
       "      <td>135.908468</td>\n",
       "      <td>0.257234</td>\n",
       "      <td>exercise</td>\n",
       "      <td>678693baa9f54233</td>\n",
       "      <td>c5ef36b567e85065931053f3d5f523</td>\n",
       "      <td>2018-08-18 10:17:37.871000(UTC)</td>\n",
       "    </tr>\n",
       "    <tr>\n",
       "      <th>3</th>\n",
       "      <td>830633563826545794ec131116ed15</td>\n",
       "      <td>34d5d85546d5584bbc95aa119c2eec</td>\n",
       "      <td>37b2c95c302356e8ac53b8d9cab638</td>\n",
       "      <td>2018-08-18 10:42:05.663000(UTC)</td>\n",
       "      <td>783.462780</td>\n",
       "      <td>0.260762</td>\n",
       "      <td>exercise</td>\n",
       "      <td>3a80f333947cd8eb</td>\n",
       "      <td>c5ef36b567e85065931053f3d5f523</td>\n",
       "      <td>2018-08-18 10:53:00.636000(UTC)</td>\n",
       "    </tr>\n",
       "    <tr>\n",
       "      <th>4</th>\n",
       "      <td>fa9ce35d24eb53e7a8ec84bce172eb</td>\n",
       "      <td>34d5d85546d5584bbc95aa119c2eec</td>\n",
       "      <td>37b2c95c302356e8ac53b8d9cab638</td>\n",
       "      <td>2018-08-18 11:22:23.325000(UTC)</td>\n",
       "      <td>0.264674</td>\n",
       "      <td>0.260043</td>\n",
       "      <td>exercise</td>\n",
       "      <td>5a89dbfd706686b6</td>\n",
       "      <td>c5ef36b567e85065931053f3d5f523</td>\n",
       "      <td>2018-08-18 10:59:56.928000(UTC)</td>\n",
       "    </tr>\n",
       "    <tr>\n",
       "      <th>5</th>\n",
       "      <td>8f3bf61e8e5f5104ad958cd8e0a3b6</td>\n",
       "      <td>34d5d85546d5584bbc95aa119c2eec</td>\n",
       "      <td>37b2c95c302356e8ac53b8d9cab638</td>\n",
       "      <td>2018-08-18 09:55:43.303000(UTC)</td>\n",
       "      <td>0.000000</td>\n",
       "      <td>0.000000</td>\n",
       "      <td>exercise</td>\n",
       "      <td>ca1b4e822d14d675</td>\n",
       "      <td>c5ef36b567e85065931053f3d5f523</td>\n",
       "      <td>2018-08-18 09:54:04.303000(UTC)</td>\n",
       "    </tr>\n",
       "    <tr>\n",
       "      <th>6</th>\n",
       "      <td>237bb8f4be005728aa58e2fd4d6509</td>\n",
       "      <td>34d5d85546d5584bbc95aa119c2eec</td>\n",
       "      <td>37b2c95c302356e8ac53b8d9cab638</td>\n",
       "      <td>2018-08-18 11:20:13.029000(UTC)</td>\n",
       "      <td>391.687930</td>\n",
       "      <td>0.000000</td>\n",
       "      <td>exercise</td>\n",
       "      <td>9d33d93483992c8e</td>\n",
       "      <td>c5ef36b567e85065931053f3d5f523</td>\n",
       "      <td>2018-08-18 09:56:55.489000(UTC)</td>\n",
       "    </tr>\n",
       "  </tbody>\n",
       "</table>\n",
       "</div>"
      ],
      "text/plain": [
       "                               id                      content_id  \\\n",
       "2  dc67704faf1e5d88922d0c5cd7adf0  34d5d85546d5584bbc95aa119c2eec   \n",
       "3  830633563826545794ec131116ed15  34d5d85546d5584bbc95aa119c2eec   \n",
       "4  fa9ce35d24eb53e7a8ec84bce172eb  34d5d85546d5584bbc95aa119c2eec   \n",
       "5  8f3bf61e8e5f5104ad958cd8e0a3b6  34d5d85546d5584bbc95aa119c2eec   \n",
       "6  237bb8f4be005728aa58e2fd4d6509  34d5d85546d5584bbc95aa119c2eec   \n",
       "\n",
       "                       channel_id                    end_timestamp  \\\n",
       "2  37b2c95c302356e8ac53b8d9cab638  2018-08-18 10:54:15.502000(UTC)   \n",
       "3  37b2c95c302356e8ac53b8d9cab638  2018-08-18 10:42:05.663000(UTC)   \n",
       "4  37b2c95c302356e8ac53b8d9cab638  2018-08-18 11:22:23.325000(UTC)   \n",
       "5  37b2c95c302356e8ac53b8d9cab638  2018-08-18 09:55:43.303000(UTC)   \n",
       "6  37b2c95c302356e8ac53b8d9cab638  2018-08-18 11:20:13.029000(UTC)   \n",
       "\n",
       "   time_spent  progress      kind      extra_fields  \\\n",
       "2  135.908468  0.257234  exercise  678693baa9f54233   \n",
       "3  783.462780  0.260762  exercise  3a80f333947cd8eb   \n",
       "4    0.264674  0.260043  exercise  5a89dbfd706686b6   \n",
       "5    0.000000  0.000000  exercise  ca1b4e822d14d675   \n",
       "6  391.687930  0.000000  exercise  9d33d93483992c8e   \n",
       "\n",
       "                          user_id                  start_timestamp  \n",
       "2  c5ef36b567e85065931053f3d5f523  2018-08-18 10:17:37.871000(UTC)  \n",
       "3  c5ef36b567e85065931053f3d5f523  2018-08-18 10:53:00.636000(UTC)  \n",
       "4  c5ef36b567e85065931053f3d5f523  2018-08-18 10:59:56.928000(UTC)  \n",
       "5  c5ef36b567e85065931053f3d5f523  2018-08-18 09:54:04.303000(UTC)  \n",
       "6  c5ef36b567e85065931053f3d5f523  2018-08-18 09:56:55.489000(UTC)  "
      ]
     },
     "execution_count": 158,
     "metadata": {},
     "output_type": "execute_result"
    }
   ],
   "source": [
    "content_session_logs.head()\n",
    "content_session_logs.loc[content_session_logs['content_id'] == '34d5d85546d5584bbc95aa119c2eec']"
   ]
  },
  {
   "cell_type": "markdown",
   "metadata": {
    "colab_type": "text",
    "id": "ivJhZ5xAhODR"
   },
   "source": [
    "We can see that there is a time_spent property, and also a kind property. We can use each of these to work out the total time for each content kind."
   ]
  },
  {
   "cell_type": "code",
   "execution_count": 96,
   "metadata": {},
   "outputs": [
    {
     "data": {
      "text/html": [
       "<div>\n",
       "<style scoped>\n",
       "    .dataframe tbody tr th:only-of-type {\n",
       "        vertical-align: middle;\n",
       "    }\n",
       "\n",
       "    .dataframe tbody tr th {\n",
       "        vertical-align: top;\n",
       "    }\n",
       "\n",
       "    .dataframe thead th {\n",
       "        text-align: right;\n",
       "    }\n",
       "</style>\n",
       "<table border=\"1\" class=\"dataframe\">\n",
       "  <thead>\n",
       "    <tr style=\"text-align: right;\">\n",
       "      <th></th>\n",
       "      <th>id</th>\n",
       "      <th>time_spent</th>\n",
       "      <th>progress</th>\n",
       "      <th>kind</th>\n",
       "    </tr>\n",
       "  </thead>\n",
       "  <tbody>\n",
       "    <tr>\n",
       "      <th>0</th>\n",
       "      <td>432d87395241549a829baff8e05695</td>\n",
       "      <td>0.000000</td>\n",
       "      <td>0.000000</td>\n",
       "      <td>exercise</td>\n",
       "    </tr>\n",
       "    <tr>\n",
       "      <th>1</th>\n",
       "      <td>5205c00b9dd85be99350cef49c29fa</td>\n",
       "      <td>0.000000</td>\n",
       "      <td>0.000000</td>\n",
       "      <td>exercise</td>\n",
       "    </tr>\n",
       "    <tr>\n",
       "      <th>2</th>\n",
       "      <td>dc67704faf1e5d88922d0c5cd7adf0</td>\n",
       "      <td>135.908468</td>\n",
       "      <td>0.257234</td>\n",
       "      <td>exercise</td>\n",
       "    </tr>\n",
       "    <tr>\n",
       "      <th>3</th>\n",
       "      <td>830633563826545794ec131116ed15</td>\n",
       "      <td>783.462780</td>\n",
       "      <td>0.260762</td>\n",
       "      <td>exercise</td>\n",
       "    </tr>\n",
       "    <tr>\n",
       "      <th>4</th>\n",
       "      <td>fa9ce35d24eb53e7a8ec84bce172eb</td>\n",
       "      <td>0.264674</td>\n",
       "      <td>0.260043</td>\n",
       "      <td>exercise</td>\n",
       "    </tr>\n",
       "  </tbody>\n",
       "</table>\n",
       "</div>"
      ],
      "text/plain": [
       "                               id  time_spent  progress      kind\n",
       "0  432d87395241549a829baff8e05695    0.000000  0.000000  exercise\n",
       "1  5205c00b9dd85be99350cef49c29fa    0.000000  0.000000  exercise\n",
       "2  dc67704faf1e5d88922d0c5cd7adf0  135.908468  0.257234  exercise\n",
       "3  830633563826545794ec131116ed15  783.462780  0.260762  exercise\n",
       "4  fa9ce35d24eb53e7a8ec84bce172eb    0.264674  0.260043  exercise"
      ]
     },
     "execution_count": 96,
     "metadata": {},
     "output_type": "execute_result"
    }
   ],
   "source": [
    "content_session_logs[['id','time_spent','progress','kind']].head()"
   ]
  },
  {
   "cell_type": "code",
   "execution_count": 64,
   "metadata": {
    "colab": {
     "base_uri": "https://localhost:8080/",
     "height": 34
    },
    "colab_type": "code",
    "id": "XavPBmF0hENq",
    "outputId": "81435439-b014-482d-d6a2-460a89493c46"
   },
   "outputs": [
    {
     "data": {
      "text/plain": [
       "297519.0763843533"
      ]
     },
     "execution_count": 64,
     "metadata": {},
     "output_type": "execute_result"
    }
   ],
   "source": [
    "# Exercise\n",
    "content_session_logs[content_session_logs.kind == 'exercise'].time_spent.sum()"
   ]
  },
  {
   "cell_type": "markdown",
   "metadata": {
    "colab_type": "text",
    "id": "zVohKd9AhZlN"
   },
   "source": [
    "Well, as anyone can see from that number in seconds, that's nearly a tenth of a year spent on exercises!\n",
    "\n",
    "But, seriously, we should probably try to transform that data into something more user friendly.\n",
    "\n",
    "Let's use Pandas functions to make this better."
   ]
  },
  {
   "cell_type": "code",
   "execution_count": 65,
   "metadata": {
    "colab": {
     "base_uri": "https://localhost:8080/",
     "height": 34
    },
    "colab_type": "code",
    "id": "fbVZhHPahXiB",
    "outputId": "2d41f3f8-939d-47a7-b37e-8e6822ab0991"
   },
   "outputs": [
    {
     "data": {
      "text/plain": [
       "Timedelta('3 days 10:38:39.076384')"
      ]
     },
     "execution_count": 65,
     "metadata": {},
     "output_type": "execute_result"
    }
   ],
   "source": [
    "# Exercise with pd.to_timedelta:\n",
    "time_spent_exercises = content_session_logs[content_session_logs.kind == 'exercise'].time_spent\n",
    "pd.to_timedelta(time_spent_exercises, unit='s').sum()"
   ]
  },
  {
   "cell_type": "code",
   "execution_count": 66,
   "metadata": {
    "colab": {
     "base_uri": "https://localhost:8080/",
     "height": 34
    },
    "colab_type": "code",
    "id": "AIbggavVjCoZ",
    "outputId": "d53819db-aaa5-4e00-a9b3-7efc9dbae3da"
   },
   "outputs": [
    {
     "data": {
      "text/plain": [
       "Timedelta('0 days 03:19:40.653408')"
      ]
     },
     "execution_count": 66,
     "metadata": {},
     "output_type": "execute_result"
    }
   ],
   "source": [
    "# Video with pd.to_timedelta:\n",
    "time_spent_on_videos = content_session_logs[content_session_logs.kind == 'video'].time_spent\n",
    "pd.to_timedelta(time_spent_on_videos, unit='s').sum()"
   ]
  },
  {
   "cell_type": "code",
   "execution_count": 67,
   "metadata": {
    "colab": {
     "base_uri": "https://localhost:8080/",
     "height": 34
    },
    "colab_type": "code",
    "id": "jCM1j6FMjGja",
    "outputId": "51ea1562-d437-4d48-9da1-1023035ff756"
   },
   "outputs": [
    {
     "data": {
      "text/plain": [
       "Timedelta('0 days 00:00:00')"
      ]
     },
     "execution_count": 67,
     "metadata": {},
     "output_type": "execute_result"
    }
   ],
   "source": [
    "# Document with pd.to_timedelta:\n",
    "time_spent_document = content_session_logs[content_session_logs.kind == 'document'].time_spent\n",
    "pd.to_timedelta(time_spent_document, unit='s').sum()"
   ]
  },
  {
   "cell_type": "code",
   "execution_count": 68,
   "metadata": {
    "colab": {
     "base_uri": "https://localhost:8080/",
     "height": 34
    },
    "colab_type": "code",
    "id": "Arjgsf1_j38Q",
    "outputId": "e795771a-862b-4988-9e0b-a63d6ad36b00"
   },
   "outputs": [
    {
     "data": {
      "text/plain": [
       "Timedelta('0 days 00:00:00')"
      ]
     },
     "execution_count": 68,
     "metadata": {},
     "output_type": "execute_result"
    }
   ],
   "source": [
    "# Audio with pd.to_timedelta:\n",
    "time_spent_audio = content_session_logs[content_session_logs.kind == 'audio'].time_spent\n",
    "pd.to_timedelta(time_spent_audio, unit='s').sum()"
   ]
  },
  {
   "cell_type": "code",
   "execution_count": 69,
   "metadata": {
    "colab": {
     "base_uri": "https://localhost:8080/",
     "height": 34
    },
    "colab_type": "code",
    "id": "JQtG8sIXk9DV",
    "outputId": "1b89453e-f87a-422e-d57e-1a53328f126b"
   },
   "outputs": [
    {
     "data": {
      "text/plain": [
       "Timedelta('0 days 00:00:00')"
      ]
     },
     "execution_count": 69,
     "metadata": {},
     "output_type": "execute_result"
    }
   ],
   "source": [
    "# HTML5 with pd.to_timedelta:\n",
    "time_spent_html5 = content_session_logs[content_session_logs.kind == 'html5'].time_spent\n",
    "pd.to_timedelta(time_spent_html5, unit='s').sum()"
   ]
  },
  {
   "cell_type": "markdown",
   "metadata": {
    "colab_type": "text",
    "id": "1ondONkchZj2"
   },
   "source": [
    "The ratio of time spent on exercises vs. total session time:"
   ]
  },
  {
   "cell_type": "code",
   "execution_count": 105,
   "metadata": {
    "colab": {
     "base_uri": "https://localhost:8080/",
     "height": 34
    },
    "colab_type": "code",
    "id": "CwdN2MZvivmN",
    "outputId": "f9437618-0411-49f9-e1c8-d098d15d1058"
   },
   "outputs": [
    {
     "ename": "SyntaxError",
     "evalue": "unexpected EOF while parsing (<ipython-input-105-e74e25e4dda6>, line 5)",
     "output_type": "error",
     "traceback": [
      "\u001b[0;36m  File \u001b[0;32m\"<ipython-input-105-e74e25e4dda6>\"\u001b[0;36m, line \u001b[0;32m5\u001b[0m\n\u001b[0;31m    session_durations = (int(user_session_logs['last_interaction_timestamp']) - int(user_session_logs['start_timestamp'])\u001b[0m\n\u001b[0m                                                                                                                         ^\u001b[0m\n\u001b[0;31mSyntaxError\u001b[0m\u001b[0;31m:\u001b[0m unexpected EOF while parsing\n"
     ]
    }
   ],
   "source": [
    "t = content_session_logs[content_session_logs.kind == 'exercise'].time_spent\n",
    "time_spent_exercises = pd.to_timedelta(t, unit='s').sum()\n",
    "\n",
    "\n",
    "session_durations = (user_session_logs['last_interaction_timestamp'] - user_session_logs['start_timestamp'])\n",
    "time_spent_sessions_total = session_durations.sum()\n",
    "\n",
    "time_spent_exercises/time_spent_sessions_total*100"
   ]
  },
  {
   "cell_type": "code",
   "execution_count": 152,
   "metadata": {},
   "outputs": [
    {
     "name": "stdout",
     "output_type": "stream",
     "text": [
      "2018-08-10 17:16:16.465814\n"
     ]
    },
    {
     "ename": "ValueError",
     "evalue": "time data '2018-08-10 18:21:55.86378' does not match format '%Y-%m-%d %H:%M:%S.%z'",
     "output_type": "error",
     "traceback": [
      "\u001b[0;31m------------------------------------------------------------------------\u001b[0m",
      "\u001b[0;31mValueError\u001b[0m                             Traceback (most recent call last)",
      "\u001b[0;32m<ipython-input-152-730172bddadc>\u001b[0m in \u001b[0;36m<module>\u001b[0;34m\u001b[0m\n\u001b[1;32m      3\u001b[0m \u001b[0;31m#datetime.datetime.fromtimestamp(user_session_logs['last_interaction_timestamp'][0])\u001b[0m\u001b[0;34m\u001b[0m\u001b[0;34m\u001b[0m\u001b[0;34m\u001b[0m\u001b[0m\n\u001b[1;32m      4\u001b[0m \u001b[0mprint\u001b[0m\u001b[0;34m(\u001b[0m\u001b[0muser_session_logs\u001b[0m\u001b[0;34m[\u001b[0m\u001b[0;34m'start_timestamp'\u001b[0m\u001b[0;34m]\u001b[0m\u001b[0;34m[\u001b[0m\u001b[0;36m0\u001b[0m\u001b[0;34m]\u001b[0m\u001b[0;34m[\u001b[0m\u001b[0;34m:\u001b[0m\u001b[0;34m-\u001b[0m\u001b[0;36m5\u001b[0m\u001b[0;34m]\u001b[0m\u001b[0;34m)\u001b[0m\u001b[0;34m\u001b[0m\u001b[0;34m\u001b[0m\u001b[0m\n\u001b[0;32m----> 5\u001b[0;31m \u001b[0mdatetime\u001b[0m\u001b[0;34m.\u001b[0m\u001b[0mdatetime\u001b[0m\u001b[0;34m.\u001b[0m\u001b[0mstrptime\u001b[0m\u001b[0;34m(\u001b[0m\u001b[0muser_session_logs\u001b[0m\u001b[0;34m[\u001b[0m\u001b[0;34m'last_interaction_timestamp'\u001b[0m\u001b[0;34m]\u001b[0m\u001b[0;34m[\u001b[0m\u001b[0;36m0\u001b[0m\u001b[0;34m]\u001b[0m\u001b[0;34m[\u001b[0m\u001b[0;34m:\u001b[0m\u001b[0;34m-\u001b[0m\u001b[0;36m6\u001b[0m\u001b[0;34m]\u001b[0m\u001b[0;34m,\u001b[0m\u001b[0mformat\u001b[0m\u001b[0;34m)\u001b[0m\u001b[0;34m\u001b[0m\u001b[0;34m\u001b[0m\u001b[0m\n\u001b[0m",
      "\u001b[0;32m/usr/lib/python3.6/_strptime.py\u001b[0m in \u001b[0;36m_strptime_datetime\u001b[0;34m(cls, data_string, format)\u001b[0m\n\u001b[1;32m    563\u001b[0m     \"\"\"Return a class cls instance based on the input string and the\n\u001b[1;32m    564\u001b[0m     format string.\"\"\"\n\u001b[0;32m--> 565\u001b[0;31m     \u001b[0mtt\u001b[0m\u001b[0;34m,\u001b[0m \u001b[0mfraction\u001b[0m \u001b[0;34m=\u001b[0m \u001b[0m_strptime\u001b[0m\u001b[0;34m(\u001b[0m\u001b[0mdata_string\u001b[0m\u001b[0;34m,\u001b[0m \u001b[0mformat\u001b[0m\u001b[0;34m)\u001b[0m\u001b[0;34m\u001b[0m\u001b[0;34m\u001b[0m\u001b[0m\n\u001b[0m\u001b[1;32m    566\u001b[0m     \u001b[0mtzname\u001b[0m\u001b[0;34m,\u001b[0m \u001b[0mgmtoff\u001b[0m \u001b[0;34m=\u001b[0m \u001b[0mtt\u001b[0m\u001b[0;34m[\u001b[0m\u001b[0;34m-\u001b[0m\u001b[0;36m2\u001b[0m\u001b[0;34m:\u001b[0m\u001b[0;34m]\u001b[0m\u001b[0;34m\u001b[0m\u001b[0;34m\u001b[0m\u001b[0m\n\u001b[1;32m    567\u001b[0m     \u001b[0margs\u001b[0m \u001b[0;34m=\u001b[0m \u001b[0mtt\u001b[0m\u001b[0;34m[\u001b[0m\u001b[0;34m:\u001b[0m\u001b[0;36m6\u001b[0m\u001b[0;34m]\u001b[0m \u001b[0;34m+\u001b[0m \u001b[0;34m(\u001b[0m\u001b[0mfraction\u001b[0m\u001b[0;34m,\u001b[0m\u001b[0;34m)\u001b[0m\u001b[0;34m\u001b[0m\u001b[0;34m\u001b[0m\u001b[0m\n",
      "\u001b[0;32m/usr/lib/python3.6/_strptime.py\u001b[0m in \u001b[0;36m_strptime\u001b[0;34m(data_string, format)\u001b[0m\n\u001b[1;32m    360\u001b[0m     \u001b[0;32mif\u001b[0m \u001b[0;32mnot\u001b[0m \u001b[0mfound\u001b[0m\u001b[0;34m:\u001b[0m\u001b[0;34m\u001b[0m\u001b[0;34m\u001b[0m\u001b[0m\n\u001b[1;32m    361\u001b[0m         raise ValueError(\"time data %r does not match format %r\" %\n\u001b[0;32m--> 362\u001b[0;31m                          (data_string, format))\n\u001b[0m\u001b[1;32m    363\u001b[0m     \u001b[0;32mif\u001b[0m \u001b[0mlen\u001b[0m\u001b[0;34m(\u001b[0m\u001b[0mdata_string\u001b[0m\u001b[0;34m)\u001b[0m \u001b[0;34m!=\u001b[0m \u001b[0mfound\u001b[0m\u001b[0;34m.\u001b[0m\u001b[0mend\u001b[0m\u001b[0;34m(\u001b[0m\u001b[0;34m)\u001b[0m\u001b[0;34m:\u001b[0m\u001b[0;34m\u001b[0m\u001b[0;34m\u001b[0m\u001b[0m\n\u001b[1;32m    364\u001b[0m         raise ValueError(\"unconverted data remains: %s\" %\n",
      "\u001b[0;31mValueError\u001b[0m: time data '2018-08-10 18:21:55.86378' does not match format '%Y-%m-%d %H:%M:%S.%z'"
     ]
    }
   ],
   "source": [
    "import datetime\n",
    "format = '%Y-%m-%d %H:%M:%S.%z'\n",
    "#datetime.datetime.fromtimestamp(user_session_logs['last_interaction_timestamp'][0])\n",
    "print(user_session_logs['start_timestamp'][0][:-5])\n",
    "datetime.datetime.strptime(user_session_logs['last_interaction_timestamp'][0][:-6],format)"
   ]
  },
  {
   "cell_type": "markdown",
   "metadata": {
    "colab_type": "text",
    "id": "NK7TmSMXgQLG"
   },
   "source": [
    "### Looking at user session durations over time"
   ]
  },
  {
   "cell_type": "code",
   "execution_count": 153,
   "metadata": {
    "colab": {
     "base_uri": "https://localhost:8080/",
     "height": 303
    },
    "colab_type": "code",
    "id": "SVa5fxHRemcJ",
    "outputId": "bda59558-b32e-48cc-fc5d-338c82abf457"
   },
   "outputs": [
    {
     "ename": "ValueError",
     "evalue": "('Unknown string format:', '2018-08-10 17:16:16.465814(UTC)')",
     "output_type": "error",
     "traceback": [
      "\u001b[0;31m------------------------------------------------------------------------\u001b[0m",
      "\u001b[0;31mTypeError\u001b[0m                              Traceback (most recent call last)",
      "\u001b[0;32m/usr/local/lib/python3.6/dist-packages/pandas/core/arrays/datetimes.py\u001b[0m in \u001b[0;36mobjects_to_datetime64ns\u001b[0;34m(data, dayfirst, yearfirst, utc, errors, require_iso8601, allow_object)\u001b[0m\n\u001b[1;32m   1860\u001b[0m         \u001b[0;32mtry\u001b[0m\u001b[0;34m:\u001b[0m\u001b[0;34m\u001b[0m\u001b[0;34m\u001b[0m\u001b[0m\n\u001b[0;32m-> 1861\u001b[0;31m             \u001b[0mvalues\u001b[0m\u001b[0;34m,\u001b[0m \u001b[0mtz_parsed\u001b[0m \u001b[0;34m=\u001b[0m \u001b[0mconversion\u001b[0m\u001b[0;34m.\u001b[0m\u001b[0mdatetime_to_datetime64\u001b[0m\u001b[0;34m(\u001b[0m\u001b[0mdata\u001b[0m\u001b[0;34m)\u001b[0m\u001b[0;34m\u001b[0m\u001b[0;34m\u001b[0m\u001b[0m\n\u001b[0m\u001b[1;32m   1862\u001b[0m             \u001b[0;31m# If tzaware, these values represent unix timestamps, so we\u001b[0m\u001b[0;34m\u001b[0m\u001b[0;34m\u001b[0m\u001b[0;34m\u001b[0m\u001b[0m\n",
      "\u001b[0;32mpandas/_libs/tslibs/conversion.pyx\u001b[0m in \u001b[0;36mpandas._libs.tslibs.conversion.datetime_to_datetime64\u001b[0;34m()\u001b[0m\n",
      "\u001b[0;31mTypeError\u001b[0m: Unrecognized value type: <class 'str'>",
      "\nDuring handling of the above exception, another exception occurred:\n",
      "\u001b[0;31mValueError\u001b[0m                             Traceback (most recent call last)",
      "\u001b[0;32m<ipython-input-153-afd5d0a2518a>\u001b[0m in \u001b[0;36m<module>\u001b[0;34m\u001b[0m\n\u001b[0;32m----> 1\u001b[0;31m \u001b[0mtime_index\u001b[0m \u001b[0;34m=\u001b[0m \u001b[0mpd\u001b[0m\u001b[0;34m.\u001b[0m\u001b[0mto_datetime\u001b[0m\u001b[0;34m(\u001b[0m\u001b[0muser_session_logs\u001b[0m\u001b[0;34m[\u001b[0m\u001b[0;34m'start_timestamp'\u001b[0m\u001b[0;34m]\u001b[0m\u001b[0;34m)\u001b[0m\u001b[0;34m\u001b[0m\u001b[0;34m\u001b[0m\u001b[0m\n\u001b[0m\u001b[1;32m      2\u001b[0m \u001b[0msessions\u001b[0m \u001b[0;34m=\u001b[0m \u001b[0muser_session_logs\u001b[0m\u001b[0;34m.\u001b[0m\u001b[0mset_index\u001b[0m\u001b[0;34m(\u001b[0m\u001b[0mtime_index\u001b[0m\u001b[0;34m)\u001b[0m\u001b[0;34m\u001b[0m\u001b[0;34m\u001b[0m\u001b[0m\n\u001b[1;32m      3\u001b[0m \u001b[0mdurations\u001b[0m \u001b[0;34m=\u001b[0m \u001b[0;34m(\u001b[0m\u001b[0msessions\u001b[0m\u001b[0;34m[\u001b[0m\u001b[0;34m'last_interaction_timestamp'\u001b[0m\u001b[0;34m]\u001b[0m \u001b[0;34m-\u001b[0m \u001b[0msessions\u001b[0m\u001b[0;34m[\u001b[0m\u001b[0;34m'start_timestamp'\u001b[0m\u001b[0;34m]\u001b[0m\u001b[0;34m)\u001b[0m\u001b[0;34m\u001b[0m\u001b[0;34m\u001b[0m\u001b[0m\n\u001b[1;32m      4\u001b[0m \u001b[0mdurations\u001b[0m\u001b[0;34m.\u001b[0m\u001b[0mplot\u001b[0m\u001b[0;34m(\u001b[0m\u001b[0;34m)\u001b[0m\u001b[0;34m\u001b[0m\u001b[0;34m\u001b[0m\u001b[0m\n",
      "\u001b[0;32m/usr/local/lib/python3.6/dist-packages/pandas/core/tools/datetimes.py\u001b[0m in \u001b[0;36mto_datetime\u001b[0;34m(arg, errors, dayfirst, yearfirst, utc, box, format, exact, unit, infer_datetime_format, origin, cache)\u001b[0m\n\u001b[1;32m    590\u001b[0m         \u001b[0;32melse\u001b[0m\u001b[0;34m:\u001b[0m\u001b[0;34m\u001b[0m\u001b[0;34m\u001b[0m\u001b[0m\n\u001b[1;32m    591\u001b[0m             \u001b[0;32mfrom\u001b[0m \u001b[0mpandas\u001b[0m \u001b[0;32mimport\u001b[0m \u001b[0mSeries\u001b[0m\u001b[0;34m\u001b[0m\u001b[0;34m\u001b[0m\u001b[0m\n\u001b[0;32m--> 592\u001b[0;31m             \u001b[0mvalues\u001b[0m \u001b[0;34m=\u001b[0m \u001b[0mconvert_listlike\u001b[0m\u001b[0;34m(\u001b[0m\u001b[0marg\u001b[0m\u001b[0;34m.\u001b[0m\u001b[0m_values\u001b[0m\u001b[0;34m,\u001b[0m \u001b[0;32mTrue\u001b[0m\u001b[0;34m,\u001b[0m \u001b[0mformat\u001b[0m\u001b[0;34m)\u001b[0m\u001b[0;34m\u001b[0m\u001b[0;34m\u001b[0m\u001b[0m\n\u001b[0m\u001b[1;32m    593\u001b[0m             \u001b[0mresult\u001b[0m \u001b[0;34m=\u001b[0m \u001b[0mSeries\u001b[0m\u001b[0;34m(\u001b[0m\u001b[0mvalues\u001b[0m\u001b[0;34m,\u001b[0m \u001b[0mindex\u001b[0m\u001b[0;34m=\u001b[0m\u001b[0marg\u001b[0m\u001b[0;34m.\u001b[0m\u001b[0mindex\u001b[0m\u001b[0;34m,\u001b[0m \u001b[0mname\u001b[0m\u001b[0;34m=\u001b[0m\u001b[0marg\u001b[0m\u001b[0;34m.\u001b[0m\u001b[0mname\u001b[0m\u001b[0;34m)\u001b[0m\u001b[0;34m\u001b[0m\u001b[0;34m\u001b[0m\u001b[0m\n\u001b[1;32m    594\u001b[0m     \u001b[0;32melif\u001b[0m \u001b[0misinstance\u001b[0m\u001b[0;34m(\u001b[0m\u001b[0marg\u001b[0m\u001b[0;34m,\u001b[0m \u001b[0;34m(\u001b[0m\u001b[0mABCDataFrame\u001b[0m\u001b[0;34m,\u001b[0m \u001b[0mcompat\u001b[0m\u001b[0;34m.\u001b[0m\u001b[0mMutableMapping\u001b[0m\u001b[0;34m)\u001b[0m\u001b[0;34m)\u001b[0m\u001b[0;34m:\u001b[0m\u001b[0;34m\u001b[0m\u001b[0;34m\u001b[0m\u001b[0m\n",
      "\u001b[0;32m/usr/local/lib/python3.6/dist-packages/pandas/core/tools/datetimes.py\u001b[0m in \u001b[0;36m_convert_listlike_datetimes\u001b[0;34m(arg, box, format, name, tz, unit, errors, infer_datetime_format, dayfirst, yearfirst, exact)\u001b[0m\n\u001b[1;32m    300\u001b[0m             \u001b[0marg\u001b[0m\u001b[0;34m,\u001b[0m \u001b[0mdayfirst\u001b[0m\u001b[0;34m=\u001b[0m\u001b[0mdayfirst\u001b[0m\u001b[0;34m,\u001b[0m \u001b[0myearfirst\u001b[0m\u001b[0;34m=\u001b[0m\u001b[0myearfirst\u001b[0m\u001b[0;34m,\u001b[0m\u001b[0;34m\u001b[0m\u001b[0;34m\u001b[0m\u001b[0m\n\u001b[1;32m    301\u001b[0m             \u001b[0mutc\u001b[0m\u001b[0;34m=\u001b[0m\u001b[0mutc\u001b[0m\u001b[0;34m,\u001b[0m \u001b[0merrors\u001b[0m\u001b[0;34m=\u001b[0m\u001b[0merrors\u001b[0m\u001b[0;34m,\u001b[0m \u001b[0mrequire_iso8601\u001b[0m\u001b[0;34m=\u001b[0m\u001b[0mrequire_iso8601\u001b[0m\u001b[0;34m,\u001b[0m\u001b[0;34m\u001b[0m\u001b[0;34m\u001b[0m\u001b[0m\n\u001b[0;32m--> 302\u001b[0;31m             allow_object=True)\n\u001b[0m\u001b[1;32m    303\u001b[0m \u001b[0;34m\u001b[0m\u001b[0m\n\u001b[1;32m    304\u001b[0m     \u001b[0;32mif\u001b[0m \u001b[0mtz_parsed\u001b[0m \u001b[0;32mis\u001b[0m \u001b[0;32mnot\u001b[0m \u001b[0;32mNone\u001b[0m\u001b[0;34m:\u001b[0m\u001b[0;34m\u001b[0m\u001b[0;34m\u001b[0m\u001b[0m\n",
      "\u001b[0;32m/usr/local/lib/python3.6/dist-packages/pandas/core/arrays/datetimes.py\u001b[0m in \u001b[0;36mobjects_to_datetime64ns\u001b[0;34m(data, dayfirst, yearfirst, utc, errors, require_iso8601, allow_object)\u001b[0m\n\u001b[1;32m   1864\u001b[0m             \u001b[0;32mreturn\u001b[0m \u001b[0mvalues\u001b[0m\u001b[0;34m.\u001b[0m\u001b[0mview\u001b[0m\u001b[0;34m(\u001b[0m\u001b[0;34m'i8'\u001b[0m\u001b[0;34m)\u001b[0m\u001b[0;34m,\u001b[0m \u001b[0mtz_parsed\u001b[0m\u001b[0;34m\u001b[0m\u001b[0;34m\u001b[0m\u001b[0m\n\u001b[1;32m   1865\u001b[0m         \u001b[0;32mexcept\u001b[0m \u001b[0;34m(\u001b[0m\u001b[0mValueError\u001b[0m\u001b[0;34m,\u001b[0m \u001b[0mTypeError\u001b[0m\u001b[0;34m)\u001b[0m\u001b[0;34m:\u001b[0m\u001b[0;34m\u001b[0m\u001b[0;34m\u001b[0m\u001b[0m\n\u001b[0;32m-> 1866\u001b[0;31m             \u001b[0;32mraise\u001b[0m \u001b[0me\u001b[0m\u001b[0;34m\u001b[0m\u001b[0;34m\u001b[0m\u001b[0m\n\u001b[0m\u001b[1;32m   1867\u001b[0m \u001b[0;34m\u001b[0m\u001b[0m\n\u001b[1;32m   1868\u001b[0m     \u001b[0;32mif\u001b[0m \u001b[0mtz_parsed\u001b[0m \u001b[0;32mis\u001b[0m \u001b[0;32mnot\u001b[0m \u001b[0;32mNone\u001b[0m\u001b[0;34m:\u001b[0m\u001b[0;34m\u001b[0m\u001b[0;34m\u001b[0m\u001b[0m\n",
      "\u001b[0;32m/usr/local/lib/python3.6/dist-packages/pandas/core/arrays/datetimes.py\u001b[0m in \u001b[0;36mobjects_to_datetime64ns\u001b[0;34m(data, dayfirst, yearfirst, utc, errors, require_iso8601, allow_object)\u001b[0m\n\u001b[1;32m   1855\u001b[0m             \u001b[0mdayfirst\u001b[0m\u001b[0;34m=\u001b[0m\u001b[0mdayfirst\u001b[0m\u001b[0;34m,\u001b[0m\u001b[0;34m\u001b[0m\u001b[0;34m\u001b[0m\u001b[0m\n\u001b[1;32m   1856\u001b[0m             \u001b[0myearfirst\u001b[0m\u001b[0;34m=\u001b[0m\u001b[0myearfirst\u001b[0m\u001b[0;34m,\u001b[0m\u001b[0;34m\u001b[0m\u001b[0;34m\u001b[0m\u001b[0m\n\u001b[0;32m-> 1857\u001b[0;31m             \u001b[0mrequire_iso8601\u001b[0m\u001b[0;34m=\u001b[0m\u001b[0mrequire_iso8601\u001b[0m\u001b[0;34m\u001b[0m\u001b[0;34m\u001b[0m\u001b[0m\n\u001b[0m\u001b[1;32m   1858\u001b[0m         )\n\u001b[1;32m   1859\u001b[0m     \u001b[0;32mexcept\u001b[0m \u001b[0mValueError\u001b[0m \u001b[0;32mas\u001b[0m \u001b[0me\u001b[0m\u001b[0;34m:\u001b[0m\u001b[0;34m\u001b[0m\u001b[0;34m\u001b[0m\u001b[0m\n",
      "\u001b[0;32mpandas/_libs/tslib.pyx\u001b[0m in \u001b[0;36mpandas._libs.tslib.array_to_datetime\u001b[0;34m()\u001b[0m\n",
      "\u001b[0;32mpandas/_libs/tslib.pyx\u001b[0m in \u001b[0;36mpandas._libs.tslib.array_to_datetime\u001b[0;34m()\u001b[0m\n",
      "\u001b[0;32mpandas/_libs/tslib.pyx\u001b[0m in \u001b[0;36mpandas._libs.tslib.array_to_datetime_object\u001b[0;34m()\u001b[0m\n",
      "\u001b[0;32mpandas/_libs/tslib.pyx\u001b[0m in \u001b[0;36mpandas._libs.tslib.array_to_datetime_object\u001b[0;34m()\u001b[0m\n",
      "\u001b[0;32mpandas/_libs/tslibs/parsing.pyx\u001b[0m in \u001b[0;36mpandas._libs.tslibs.parsing.parse_datetime_string\u001b[0;34m()\u001b[0m\n",
      "\u001b[0;32m/usr/local/lib/python3.6/dist-packages/dateutil/parser/_parser.py\u001b[0m in \u001b[0;36mparse\u001b[0;34m(timestr, parserinfo, **kwargs)\u001b[0m\n\u001b[1;32m   1356\u001b[0m         \u001b[0;32mreturn\u001b[0m \u001b[0mparser\u001b[0m\u001b[0;34m(\u001b[0m\u001b[0mparserinfo\u001b[0m\u001b[0;34m)\u001b[0m\u001b[0;34m.\u001b[0m\u001b[0mparse\u001b[0m\u001b[0;34m(\u001b[0m\u001b[0mtimestr\u001b[0m\u001b[0;34m,\u001b[0m \u001b[0;34m**\u001b[0m\u001b[0mkwargs\u001b[0m\u001b[0;34m)\u001b[0m\u001b[0;34m\u001b[0m\u001b[0;34m\u001b[0m\u001b[0m\n\u001b[1;32m   1357\u001b[0m     \u001b[0;32melse\u001b[0m\u001b[0;34m:\u001b[0m\u001b[0;34m\u001b[0m\u001b[0;34m\u001b[0m\u001b[0m\n\u001b[0;32m-> 1358\u001b[0;31m         \u001b[0;32mreturn\u001b[0m \u001b[0mDEFAULTPARSER\u001b[0m\u001b[0;34m.\u001b[0m\u001b[0mparse\u001b[0m\u001b[0;34m(\u001b[0m\u001b[0mtimestr\u001b[0m\u001b[0;34m,\u001b[0m \u001b[0;34m**\u001b[0m\u001b[0mkwargs\u001b[0m\u001b[0;34m)\u001b[0m\u001b[0;34m\u001b[0m\u001b[0;34m\u001b[0m\u001b[0m\n\u001b[0m\u001b[1;32m   1359\u001b[0m \u001b[0;34m\u001b[0m\u001b[0m\n\u001b[1;32m   1360\u001b[0m \u001b[0;34m\u001b[0m\u001b[0m\n",
      "\u001b[0;32m/usr/local/lib/python3.6/dist-packages/dateutil/parser/_parser.py\u001b[0m in \u001b[0;36mparse\u001b[0;34m(self, timestr, default, ignoretz, tzinfos, **kwargs)\u001b[0m\n\u001b[1;32m    647\u001b[0m \u001b[0;34m\u001b[0m\u001b[0m\n\u001b[1;32m    648\u001b[0m         \u001b[0;32mif\u001b[0m \u001b[0mres\u001b[0m \u001b[0;32mis\u001b[0m \u001b[0;32mNone\u001b[0m\u001b[0;34m:\u001b[0m\u001b[0;34m\u001b[0m\u001b[0;34m\u001b[0m\u001b[0m\n\u001b[0;32m--> 649\u001b[0;31m             \u001b[0;32mraise\u001b[0m \u001b[0mValueError\u001b[0m\u001b[0;34m(\u001b[0m\u001b[0;34m\"Unknown string format:\"\u001b[0m\u001b[0;34m,\u001b[0m \u001b[0mtimestr\u001b[0m\u001b[0;34m)\u001b[0m\u001b[0;34m\u001b[0m\u001b[0;34m\u001b[0m\u001b[0m\n\u001b[0m\u001b[1;32m    650\u001b[0m \u001b[0;34m\u001b[0m\u001b[0m\n\u001b[1;32m    651\u001b[0m         \u001b[0;32mif\u001b[0m \u001b[0mlen\u001b[0m\u001b[0;34m(\u001b[0m\u001b[0mres\u001b[0m\u001b[0;34m)\u001b[0m \u001b[0;34m==\u001b[0m \u001b[0;36m0\u001b[0m\u001b[0;34m:\u001b[0m\u001b[0;34m\u001b[0m\u001b[0;34m\u001b[0m\u001b[0m\n",
      "\u001b[0;31mValueError\u001b[0m: ('Unknown string format:', '2018-08-10 17:16:16.465814(UTC)')"
     ]
    }
   ],
   "source": [
    "time_index = pd.to_datetime(user_session_logs['start_timestamp'])\n",
    "sessions = user_session_logs.set_index(time_index)\n",
    "durations = (sessions['last_interaction_timestamp'] - sessions['start_timestamp'])\n",
    "durations.plot()"
   ]
  },
  {
   "cell_type": "markdown",
   "metadata": {
    "colab_type": "text",
    "id": "kG2gAMXFwMr2"
   },
   "source": [
    "Zooming in..."
   ]
  },
  {
   "cell_type": "code",
   "execution_count": 139,
   "metadata": {
    "colab": {
     "base_uri": "https://localhost:8080/",
     "height": 310
    },
    "colab_type": "code",
    "id": "38HlxuwLs0vy",
    "outputId": "72e422c0-b1bf-4136-ebd6-c0f7e76df276"
   },
   "outputs": [
    {
     "ename": "NameError",
     "evalue": "name 'durations' is not defined",
     "output_type": "error",
     "traceback": [
      "\u001b[0;31m------------------------------------------------------------------------\u001b[0m",
      "\u001b[0;31mNameError\u001b[0m                              Traceback (most recent call last)",
      "\u001b[0;32m<ipython-input-139-176b01c7553d>\u001b[0m in \u001b[0;36m<module>\u001b[0;34m\u001b[0m\n\u001b[0;32m----> 1\u001b[0;31m \u001b[0mdurations\u001b[0m\u001b[0;34m.\u001b[0m\u001b[0mplot\u001b[0m\u001b[0;34m(\u001b[0m\u001b[0mxlim\u001b[0m\u001b[0;34m=\u001b[0m\u001b[0;34m(\u001b[0m\u001b[0mpd\u001b[0m\u001b[0;34m.\u001b[0m\u001b[0mto_datetime\u001b[0m\u001b[0;34m(\u001b[0m\u001b[0;34m'2017-12'\u001b[0m\u001b[0;34m)\u001b[0m\u001b[0;34m,\u001b[0m \u001b[0mpd\u001b[0m\u001b[0;34m.\u001b[0m\u001b[0mto_datetime\u001b[0m\u001b[0;34m(\u001b[0m\u001b[0;34m'2018-01'\u001b[0m\u001b[0;34m)\u001b[0m\u001b[0;34m)\u001b[0m\u001b[0;34m)\u001b[0m\u001b[0;34m\u001b[0m\u001b[0;34m\u001b[0m\u001b[0m\n\u001b[0m",
      "\u001b[0;31mNameError\u001b[0m: name 'durations' is not defined"
     ]
    }
   ],
   "source": [
    "durations.plot(xlim=(pd.to_datetime('2017-12'), pd.to_datetime('2018-01')))"
   ]
  },
  {
   "cell_type": "markdown",
   "metadata": {
    "colab_type": "text",
    "id": "-tesmJdknxE0"
   },
   "source": [
    "We can also plot a rolling sum of total session duration over a window:"
   ]
  },
  {
   "cell_type": "code",
   "execution_count": null,
   "metadata": {
    "colab": {
     "base_uri": "https://localhost:8080/",
     "height": 292
    },
    "colab_type": "code",
    "id": "-vb6ZJbcnymH",
    "outputId": "5311b691-3d02-4834-ea60-e31f67e13e29"
   },
   "outputs": [],
   "source": [
    "# Pandas doesn't let us take a rolling mean of Timedelta...\n",
    "# (see here https://stackoverflow.com/a/44616595 )\n",
    "# Let's the Timedeltas to hours:\n",
    "duration_hours = durations.dt.total_seconds()/60/60\n",
    "window = pd.Timedelta('7 days')\n",
    "duration_hours.rolling(window).sum().plot()"
   ]
  },
  {
   "cell_type": "markdown",
   "metadata": {
    "colab_type": "text",
    "id": "Zk7x2gx_uHeI"
   },
   "source": [
    "Unfortunately, Pandas built-in plotting helpers don't let us make scatterplots of Series data. \n",
    "\n",
    "So we'll need to use matplotlib directly for this...\n"
   ]
  },
  {
   "cell_type": "code",
   "execution_count": null,
   "metadata": {
    "colab": {
     "base_uri": "https://localhost:8080/",
     "height": 293
    },
    "colab_type": "code",
    "id": "9ZBBqranyTqU",
    "outputId": "e7282e38-a21e-4ee7-c0d1-c8d59de88b3b"
   },
   "outputs": [],
   "source": [
    "import matplotlib.pyplot as plt\n",
    "plt.plot_date(durations.index, durations)"
   ]
  },
  {
   "cell_type": "code",
   "execution_count": null,
   "metadata": {
    "colab": {},
    "colab_type": "code",
    "id": "4jagafo0I2Fv"
   },
   "outputs": [],
   "source": [
    "user_session_logs['time_spent'] = user_session_logs.last_interaction_timestamp - user_session_logs.start_timestamp"
   ]
  },
  {
   "cell_type": "code",
   "execution_count": null,
   "metadata": {
    "colab": {
     "base_uri": "https://localhost:8080/",
     "height": 308
    },
    "colab_type": "code",
    "id": "HNDoqEF1KMIJ",
    "outputId": "8c283109-e12f-4cd8-91b3-2d01ac423af2"
   },
   "outputs": [],
   "source": [
    "user_session_logs.head()"
   ]
  },
  {
   "cell_type": "code",
   "execution_count": null,
   "metadata": {
    "colab": {
     "base_uri": "https://localhost:8080/",
     "height": 365
    },
    "colab_type": "code",
    "id": "tamMbCW6I3ar",
    "outputId": "9ba67cdf-b156-451d-8010-f39dfc3d10e4"
   },
   "outputs": [],
   "source": [
    "user_session_logs.time_spent.astype('timedelta64[m]').hist()"
   ]
  },
  {
   "cell_type": "code",
   "execution_count": null,
   "metadata": {
    "colab": {
     "base_uri": "https://localhost:8080/",
     "height": 308
    },
    "colab_type": "code",
    "id": "gjz94pgXJCnZ",
    "outputId": "759fb33b-244a-4a7d-bb8e-fdaf31429909"
   },
   "outputs": [],
   "source": [
    "content_summary_logs"
   ]
  },
  {
   "cell_type": "code",
   "execution_count": null,
   "metadata": {
    "colab": {
     "base_uri": "https://localhost:8080/",
     "height": 1133
    },
    "colab_type": "code",
    "id": "M9bCcsElM_qb",
    "outputId": "b8221efb-dc8f-46ff-e02b-41c3d2a7e1bf"
   },
   "outputs": [],
   "source": [
    "content_summary_logs[content_summary_logs.time_spent > 15].groupby('content_id').content_id.count().sort_values()"
   ]
  },
  {
   "cell_type": "code",
   "execution_count": null,
   "metadata": {
    "colab": {
     "base_uri": "https://localhost:8080/",
     "height": 1133
    },
    "colab_type": "code",
    "id": "TBQ06mbtPdiQ",
    "outputId": "3e60afc6-026f-465f-98e0-dc5bba9b7091"
   },
   "outputs": [],
   "source": [
    "content_summary_logs[content_summary_logs.time_spent > 15].groupby('content_id').time_spent.sum().sort_values()"
   ]
  },
  {
   "cell_type": "code",
   "execution_count": null,
   "metadata": {
    "colab": {
     "base_uri": "https://localhost:8080/",
     "height": 308
    },
    "colab_type": "code",
    "id": "Gs1oSaQURV25",
    "outputId": "0ca79e6a-a95d-442e-e655-e30472cc9d61"
   },
   "outputs": [],
   "source": [
    "attempt_logs.head()"
   ]
  },
  {
   "cell_type": "markdown",
   "metadata": {
    "colab_type": "text",
    "id": "IXNHUycnT5Kr"
   },
   "source": [
    "### histogram of how many unique exercises the learners in the facility have completed"
   ]
  },
  {
   "cell_type": "code",
   "execution_count": null,
   "metadata": {
    "colab": {
     "base_uri": "https://localhost:8080/",
     "height": 365
    },
    "colab_type": "code",
    "id": "cK3bcNL9R3qT",
    "outputId": "8f471b70-d696-4bf4-e1a2-dbed6117f5aa"
   },
   "outputs": [],
   "source": [
    "content_summary_logs[content_summary_logs.kind == 'exercise'].groupby('content_id').content_id.count().hist()"
   ]
  },
  {
   "cell_type": "code",
   "execution_count": null,
   "metadata": {
    "colab": {
     "base_uri": "https://localhost:8080/",
     "height": 3008
    },
    "colab_type": "code",
    "id": "F-gPgFrnULD5",
    "outputId": "1b674a14-954b-45ed-817a-cc12b302fdae"
   },
   "outputs": [],
   "source": [
    "content_session_logs[~content_session_logs.user_id.isnull()]"
   ]
  },
  {
   "cell_type": "code",
   "execution_count": null,
   "metadata": {
    "colab": {},
    "colab_type": "code",
    "id": "GEC-LvzKVUwd"
   },
   "outputs": [],
   "source": []
  }
 ],
 "metadata": {
  "colab": {
   "name": "Kolibri Data Analysis.ipynb",
   "provenance": [],
   "version": "0.3.2"
  },
  "kernelspec": {
   "display_name": "Python 3",
   "language": "python",
   "name": "python3"
  },
  "language_info": {
   "codemirror_mode": {
    "name": "ipython",
    "version": 3
   },
   "file_extension": ".py",
   "mimetype": "text/x-python",
   "name": "python",
   "nbconvert_exporter": "python",
   "pygments_lexer": "ipython3",
   "version": "3.6.7"
  }
 },
 "nbformat": 4,
 "nbformat_minor": 1
}
