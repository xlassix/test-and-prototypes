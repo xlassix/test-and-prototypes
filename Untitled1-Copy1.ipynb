{
 "cells": [
  {
   "cell_type": "code",
   "execution_count": 9,
   "metadata": {},
   "outputs": [],
   "source": [
    "from tkinter import *\n",
    "from tkinter import filedialog\n",
    "import os\n",
    "import subprocess\n",
    "import tkinter.ttk as tk\n"
   ]
  },
  {
   "cell_type": "code",
   "execution_count": 10,
   "metadata": {},
   "outputs": [
    {
     "data": {
      "text/plain": [
       "''"
      ]
     },
     "execution_count": 10,
     "metadata": {},
     "output_type": "execute_result"
    }
   ],
   "source": [
    "win = Tk() # Create instance\n",
    "win.title(\"Manipulate Video\") # Add a title\n",
    "win.resizable(0, 0) # Disable resizing the GUI\n",
    "win.configure(background='white') # change background color\n",
    " \n",
    "#  Create a label\n",
    "aLabel = Label(win, text=\"Select video size and video\", anchor=\"center\", padx=13, pady=10, relief=RAISED)\n",
    "aLabel.grid(column=0, row=0, sticky=W+E)\n",
    "aLabel.configure(foreground=\"black\")\n",
    "aLabel.configure(background=\"white\")\n",
    "aLabel.configure(wraplength=110)\n",
    " \n",
    "# Create a combo box\n",
    "vid_size = StringVar() # create a string variable\n",
    "preferSize = tk.Combobox(win, textvariable=vid_size) \n",
    "preferSize['values'] = (1920, 1280, 854, 640) # video width in pixels\n",
    "preferSize.grid(column=0, row=1) # the position of combo box\n",
    "preferSize.current(0) # select item one "
   ]
  },
  {
   "cell_type": "code",
   "execution_count": 11,
   "metadata": {},
   "outputs": [],
   "source": [
    "# Open a video file\n",
    "def openVideo():\n",
    "    fullfilename = filedialog.askopenfilename(initialdir=\"/\", title=\"Select a file\", filetypes=[(\"Video file\", \"*.mp4; *.avi \")]) # select a video file from the hard drive\n",
    "    print(fullfilename)\n",
    "    if(fullfilename != ''):\n",
    "            scale_vid = preferSize.get() # retrieve value in the comno box\n",
    "            new_size = str(scale_vid)\n",
    "            dir_path = os.path.dirname(os.path.realpath(fullfilename))\n",
    "            os.chdir(dir_path)\n",
    "            f = new_size  + '.mp4' # the new output file name and format\n",
    "            #subprocess.call(['ffmpeg', '-stream_loop', '2', '-i', fullfilename, '-vf', 'scale=' + new_size + ':-1', '-y', f]) # resize and loop the video with ffmpeg\n",
    "            subprocess.call(['ffmpeg', '-i', fullfilename, '-vf', 'scale=' + new_size + ':-1', '-y', '-r', '24', f]) # resize then reduce the video frame rate with ffmpeg"
   ]
  },
  {
   "cell_type": "code",
   "execution_count": null,
   "metadata": {},
   "outputs": [
    {
     "name": "stdout",
     "output_type": "stream",
     "text": [
      "C:/Users/User 614/Downloads/Video/Legacies - S02E03 HD (TvShows4Mobile.Com) jgls3.mp4\n"
     ]
    },
    {
     "name": "stderr",
     "output_type": "stream",
     "text": [
      "Exception in Tkinter callback\n",
      "Traceback (most recent call last):\n",
      "  File \"c:\\users\\user 614\\appdata\\local\\programs\\python\\python37\\lib\\tkinter\\__init__.py\", line 1705, in __call__\n",
      "    return self.func(*args)\n",
      "  File \"<ipython-input-11-49685b12ae68>\", line 12, in openVideo\n",
      "    subprocess.call(['ffmpeg', '-i', fullfilename, '-vf', 'scale=' + new_size + ':-1', '-y', '-r', '24', f]) # resize then reduce the video frame rate with ffmpeg\n",
      "  File \"c:\\users\\user 614\\appdata\\local\\programs\\python\\python37\\lib\\subprocess.py\", line 323, in call\n",
      "    with Popen(*popenargs, **kwargs) as p:\n",
      "  File \"c:\\users\\user 614\\appdata\\local\\programs\\python\\python37\\lib\\subprocess.py\", line 775, in __init__\n",
      "    restore_signals, start_new_session)\n",
      "  File \"c:\\users\\user 614\\appdata\\local\\programs\\python\\python37\\lib\\subprocess.py\", line 1178, in _execute_child\n",
      "    startupinfo)\n",
      "FileNotFoundError: [WinError 2] The system cannot find the file specified\n"
     ]
    }
   ],
   "source": [
    "action_vid = Button(win, text=\"Open Video\", command=openVideo, padx=2)\n",
    "action_vid.grid(column=0, row=2, sticky=E+W)\n",
    "action_vid.configure(background='black')\n",
    "action_vid.configure(foreground='white')\n",
    " \n",
    "win.mainloop()"
   ]
  },
  {
   "cell_type": "code",
   "execution_count": null,
   "metadata": {},
   "outputs": [],
   "source": []
  }
 ],
 "metadata": {
  "kernelspec": {
   "display_name": "Python 3",
   "language": "python",
   "name": "python3"
  },
  "language_info": {
   "codemirror_mode": {
    "name": "ipython",
    "version": 3
   },
   "file_extension": ".py",
   "mimetype": "text/x-python",
   "name": "python",
   "nbconvert_exporter": "python",
   "pygments_lexer": "ipython3",
   "version": "3.7.4"
  }
 },
 "nbformat": 4,
 "nbformat_minor": 4
}
